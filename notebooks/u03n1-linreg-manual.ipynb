{
 "cells": [
  {
   "cell_type": "markdown",
   "metadata": {},
   "source": [
    "# Linear Regression the Hard Way\n",
    "\n",
    "Task: fit a linear regression using gradient descent"
   ]
  },
  {
   "cell_type": "markdown",
   "metadata": {},
   "source": [
    "## Setup"
   ]
  },
  {
   "cell_type": "code",
   "execution_count": null,
   "metadata": {},
   "outputs": [],
   "source": [
    "import numpy as np\n",
    "np.set_printoptions(precision=3)\n",
    "import ipywidgets as widgets\n",
    "import matplotlib.pyplot as plt\n",
    "import pandas as pd\n",
    "%matplotlib inline"
   ]
  },
  {
   "cell_type": "markdown",
   "metadata": {},
   "source": [
    "## Task"
   ]
  },
  {
   "cell_type": "markdown",
   "metadata": {},
   "source": [
    "Suppose we have a dataset with just a single feature `x` and continuous outcome variable `y`. We'll have a few possible datasets."
   ]
  },
  {
   "cell_type": "code",
   "execution_count": null,
   "metadata": {},
   "outputs": [],
   "source": [
    "DATASET = 'toy'\n",
    "\n",
    "if DATASET == 'toy':\n",
    "    x = np.array([0, 1, 2, 3])[:, np.newaxis]\n",
    "    y_true = np.array([-1, .5, 2.0, 3.5])[:, np.newaxis]\n",
    "elif DATASET == \"temps\":\n",
    "    data = pd.read_csv(\"https://data.giss.nasa.gov/gistemp/graphs_v4/graph_data/Global_Mean_Estimates_based_on_Land_and_Ocean_Data/graph.csv\", skiprows=1)\n",
    "    # Shape x to be items-by-features\n",
    "    x = data.iloc[:, 0].values.astype(np.float32)[:, np.newaxis]\n",
    "    # scale x to a reasonable range\n",
    "    x -= 1880.0\n",
    "    x /= 100.\n",
    "    y_true = data.iloc[:, 1].values.astype(np.float32)[:, np.newaxis]\n"
   ]
  },
  {
   "cell_type": "code",
   "execution_count": null,
   "metadata": {},
   "outputs": [],
   "source": [
    "if len(x) < 50:\n",
    "    plt.scatter(x, y_true)\n",
    "else:\n",
    "    plt.plot(x, y_true)\n",
    "print(x.shape, y_true.shape)"
   ]
  },
  {
   "cell_type": "markdown",
   "metadata": {},
   "source": [
    "Create some features that we'll need later; don't worry about this code right now."
   ]
  },
  {
   "cell_type": "code",
   "execution_count": null,
   "metadata": {},
   "outputs": [],
   "source": [
    "# a simple hardcoded linear layer\n",
    "pretend_first_layer_out = x @ np.ones((1, 2)) + np.array([0.0, -0.5])\n",
    "# a rectifier\n",
    "pretend_first_layer_activations = np.maximum(pretend_first_layer_out, 0.0)\n",
    "f1, f2 = pretend_first_layer_activations.T"
   ]
  },
  {
   "cell_type": "markdown",
   "metadata": {},
   "source": [
    "This notebook will be a bit different from usual: you'll be editing a *single* block of code. So the final notebook won't show your intermediate steps. That doesn't mean they aren't important; make sure you successfully complete each step before moving on to the next one."
   ]
  },
  {
   "cell_type": "code",
   "execution_count": null,
   "metadata": {},
   "outputs": [],
   "source": [
    "## Working Cell\n",
    "\n",
    "# Set hyperparameters\n",
    "learning_rate = 0.1\n",
    "num_iter = 50\n",
    "\n",
    "# Initialize parameters\n",
    "weights = np.array([[0.0]])\n",
    "bias = np.array([0.0])\n",
    "\n",
    "# Keep a log of loss values\n",
    "losses = []\n",
    "\n",
    "## Do your work here.\n",
    "\n",
    "# Plot the results\n",
    "fig, axs = plt.subplots(ncols=2, figsize=(10, 4))\n",
    "axs[0].plot(losses)\n",
    "axs[0].set(title=\"Loss\", xlabel=\"iteration\", ylabel=\"Loss\")\n",
    "axs[1].scatter(x, y_true)\n",
    "axs[1].plot(x, y_pred, 'r');\n",
    "axs[1].set(title=\"Fitted model\", xlabel='x', ylabel='y')\n",
    "print(f\"Final Loss: {losses[-1]:.3f}, final weights: {weights.flatten()}, final bias: {bias}\")"
   ]
  }
 ],
 "metadata": {
  "kernelspec": {
   "display_name": "fa22",
   "language": "python",
   "name": "python3"
  },
  "language_info": {
   "codemirror_mode": {
    "name": "ipython",
    "version": 3
   },
   "file_extension": ".py",
   "mimetype": "text/x-python",
   "name": "python",
   "nbconvert_exporter": "python",
   "pygments_lexer": "ipython3",
   "version": "3.12.0"
  },
  "vscode": {
   "interpreter": {
    "hash": "74acacffd0749514a06dc7848c6df011b7a94ca944d93916dccfefa4cad34482"
   }
  }
 },
 "nbformat": 4,
 "nbformat_minor": 4
}
