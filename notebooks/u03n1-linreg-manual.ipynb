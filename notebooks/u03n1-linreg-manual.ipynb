{
 "cells": [
  {
   "cell_type": "markdown",
   "metadata": {},
   "source": [
    "# Linear Regression the Hard Way\n",
    "\n",
    "Task: fit a linear regression by implementing the forward pass and the loss yourself."
   ]
  },
  {
   "cell_type": "markdown",
   "metadata": {},
   "source": [
    "## Objectives\n",
    "\n",
    "- Explain each step in the forward pass of a linear regression model\n",
    "- Understand the effects of parameters on predictions of a linear model\n",
    "- Evaluate loss of a model on a dataset\n",
    "- Explain what it means for a model to fit a dataset"
   ]
  },
  {
   "cell_type": "markdown",
   "metadata": {},
   "source": [
    "## Setup"
   ]
  },
  {
   "cell_type": "code",
   "execution_count": 1,
   "metadata": {},
   "outputs": [],
   "source": [
    "import numpy as np\n",
    "np.set_printoptions(precision=3)\n",
    "import ipywidgets as widgets\n",
    "import matplotlib.pyplot as plt\n",
    "import pandas as pd\n",
    "%matplotlib inline"
   ]
  },
  {
   "cell_type": "markdown",
   "metadata": {},
   "source": [
    "Suppose we have a dataset with just a single feature `x` and continuous outcome variable `y`. We'll have a few possible datasets; keep it at `toy` for now, but come back and try the others later."
   ]
  },
  {
   "cell_type": "code",
   "execution_count": 2,
   "metadata": {},
   "outputs": [
    {
     "name": "stdout",
     "output_type": "stream",
     "text": [
      "x.shape (4,)\n",
      "y_true.shape (4,)\n"
     ]
    },
    {
     "data": {
      "image/png": "[encoded data removed]",
      "text/plain": [
       "<Figure size 640x480 with 1 Axes>"
      ]
     },
     "metadata": {},
     "output_type": "display_data"
    }
   ],
   "source": [
    "DATASET = 'toy'\n",
    "\n",
    "if DATASET == 'toy':\n",
    "    x = np.array([0, 1, 2, 3])\n",
    "    y_true = np.array([-1.01, .56, 2.02, 3.51])\n",
    "if DATASET == 'toy2':\n",
    "    x = np.array([0, 1, 2, 3])\n",
    "    y_true = np.array([-1, .5, 2.0, 25])\n",
    "elif DATASET == \"temps\":\n",
    "    data = pd.read_csv(\"https://data.giss.nasa.gov/gistemp/graphs_v4/graph_data/Global_Mean_Estimates_based_on_Land_and_Ocean_Data/graph.csv\", skiprows=1)\n",
    "    # Shape x to be items-by-features\n",
    "    x = data.iloc[:, 0].values.astype(np.float32)\n",
    "    # scale x to a reasonable range\n",
    "    x -= 1880.0\n",
    "    x /= 100.\n",
    "    y_true = data.iloc[:, 1].values.astype(np.float32)\n",
    "\n",
    "# Plot the data so we can see it\n",
    "if len(x) < 50:\n",
    "    plt.scatter(x, y_true)\n",
    "else:\n",
    "    plt.plot(x, y_true)\n",
    "print(\"x.shape\", x.shape)\n",
    "print(\"y_true.shape\", y_true.shape)"
   ]
  },
  {
   "cell_type": "markdown",
   "metadata": {},
   "source": [
    "## Task"
   ]
  },
  {
   "cell_type": "markdown",
   "metadata": {},
   "source": [
    "### Step 0: Initialize the model\n",
    "\n",
    "We'll make a model with two parameters: the slope and the intercept. We'll initialize them randomly."
   ]
  },
  {
   "cell_type": "code",
   "execution_count": 3,
   "metadata": {},
   "outputs": [],
   "source": [
    "np.random.seed(0)\n",
    "params = np.random.randn(2)"
   ]
  },
  {
   "cell_type": "markdown",
   "metadata": {},
   "source": [
    "### Step 1: Single prediction\n",
    "\n",
    "Fill in the blanks below to make a prediction for a single input `x`."
   ]
  },
  {
   "cell_type": "code",
   "execution_count": 4,
   "metadata": {},
   "outputs": [
    {
     "name": "stdout",
     "output_type": "stream",
     "text": [
      "predicted value: 0.4001572083672233\n"
     ]
    }
   ],
   "source": [
    "x_i = x[0] # pick an example data point\n",
    "weight = params[0]\n",
    "bias = params[1]\n",
    "\n",
    "y_pred_i = ...\n",
    "print(\"predicted value:\", y_pred_i)"
   ]
  },
  {
   "cell_type": "markdown",
   "metadata": {},
   "source": [
    "### Step 2: Prediction for all inputs\n",
    "\n",
    "Fill in the blanks below to write a function that makes predictions for all inputs in a dataset. This is typically called the *forward pass*."
   ]
  },
  {
   "cell_type": "code",
   "execution_count": 5,
   "metadata": {},
   "outputs": [
    {
     "name": "stdout",
     "output_type": "stream",
     "text": [
      "predicted values: [0.4   2.164 3.928 5.692]\n"
     ]
    }
   ],
   "source": [
    "def linreg_forward(params, x):\n",
    "    weight = params[0]\n",
    "    bias = params[1]\n",
    "    return ...\n",
    "\n",
    "y_pred = linreg_forward(params, x) # make predictions for all data points\n",
    "print(\"predicted values:\", y_pred)"
   ]
  },
  {
   "cell_type": "markdown",
   "metadata": {},
   "source": [
    "**Pause to reflect**:\n",
    "\n",
    "- What are the shapes of `x`, `weight`, `bias`, and `y_pred`? What does each shape represent?\n",
    "- If you had to write the function as a `for` loop instead of using broadcasting, how many times would the loop run?"
   ]
  },
  {
   "cell_type": "markdown",
   "metadata": {},
   "source": [
    "#### Visualizing the predictions\n",
    "\n",
    "Observe the plot of the predictions. **By eye, make a very rough estimate of what the *mean squared error* and *mean absolute error* might be.** Don't calculate them (we'll do that in the next step, don't peek ahead), just make a thoughtful guess, to one sigfig, based on the plot."
   ]
  },
  {
   "cell_type": "code",
   "execution_count": 6,
   "metadata": {},
   "outputs": [
    {
     "data": {
      "image/png": "[encoded data removed]",
      "text/plain": [
       "<Figure size 640x480 with 1 Axes>"
      ]
     },
     "metadata": {},
     "output_type": "display_data"
    }
   ],
   "source": [
    "def plot_predictions(x, y_true, y_pred):\n",
    "    plt.scatter(x, y_true, label=\"true\")\n",
    "    plt.plot(x, y_pred, label=\"predicted\")\n",
    "    plt.legend()\n",
    "    plt.xlabel(\"x value\")\n",
    "\n",
    "plot_predictions(x, y_true, y_pred)"
   ]
  },
  {
   "cell_type": "markdown",
   "metadata": {},
   "source": [
    "- Approximate value of MSE: ___\n",
    "- Approximate value of MAE: ___"
   ]
  },
  {
   "cell_type": "markdown",
   "metadata": {},
   "source": [
    "### Step 3: Compute loss\n",
    "\n",
    "Fill in the blanks below to compute the mean squared error and the mean absolute error loss for the predictions."
   ]
  },
  {
   "cell_type": "code",
   "execution_count": 7,
   "metadata": {},
   "outputs": [
    {
     "name": "stdout",
     "output_type": "stream",
     "text": [
      "MSE loss: 3.241497649037405\n",
      "MAE loss: 1.7762357273187195\n"
     ]
    }
   ],
   "source": [
    "def compute_mse_loss(y_true, ...):\n",
    "    return ...\n",
    "\n",
    "def compute_mae_loss(y_true, ...):\n",
    "    return ...\n",
    "\n",
    "mse_loss = compute_mse_loss(..., ...)\n",
    "print(\"MSE loss:\", mse_loss)\n",
    "\n",
    "mae_loss = compute_mae_loss(..., ...)\n",
    "print(\"MAE loss:\", mae_loss)"
   ]
  },
  {
   "cell_type": "markdown",
   "metadata": {},
   "source": [
    "### Step 4: Compute loss given parameters\n",
    "\n",
    "Write a function that computes the loss given the parameters of the model and set of data points."
   ]
  },
  {
   "cell_type": "code",
   "execution_count": 8,
   "metadata": {},
   "outputs": [
    {
     "name": "stdout",
     "output_type": "stream",
     "text": [
      "loss: 3.241497649037405\n"
     ]
    }
   ],
   "source": [
    "def loss_given_params(params, x, y_true):\n",
    "    y_pred = ...\n",
    "    return compute_mse_loss(...)\n",
    "\n",
    "loss = loss_given_params(params, x, y_true)\n",
    "print(\"loss:\", loss)"
   ]
  },
  {
   "cell_type": "markdown",
   "metadata": {},
   "source": [
    "Now we can use an optimizer to find the best parameters for the model."
   ]
  },
  {
   "cell_type": "code",
   "execution_count": 9,
   "metadata": {},
   "outputs": [
    {
     "name": "stdout",
     "output_type": "stream",
     "text": [
      "fitted params: [ 1.502 -0.983]\n"
     ]
    }
   ],
   "source": [
    "from scipy.optimize import minimize\n",
    "\n",
    "optimization_result = minimize(loss_given_params, params, args=(x, y_true))\n",
    "fitted_params = optimization_result.x\n",
    "print(\"fitted params:\", fitted_params)"
   ]
  },
  {
   "cell_type": "code",
   "execution_count": 10,
   "metadata": {},
   "outputs": [
    {
     "data": {
      "image/png": "[encoded data removed]",
      "text/plain": [
       "<Figure size 640x480 with 1 Axes>"
      ]
     },
     "metadata": {},
     "output_type": "display_data"
    }
   ],
   "source": [
    "plot_predictions(x, y_true, linreg_forward(fitted_params, x))"
   ]
  },
  {
   "cell_type": "markdown",
   "metadata": {},
   "source": [
    "Now, use your functions above to compute the loss for the fitted parameters."
   ]
  },
  {
   "cell_type": "code",
   "execution_count": 11,
   "metadata": {},
   "outputs": [
    {
     "name": "stdout",
     "output_type": "stream",
     "text": [
      "MSE loss: 0.0006450000093661442\n",
      "MAE loss: 0.020500116851778938\n"
     ]
    }
   ],
   "source": [
    "y_pred = ...\n",
    "print(\"MSE loss:\", compute_mse_loss(..., ...))\n",
    "print(\"MAE loss:\", compute_mae_loss(..., ...))"
   ]
  },
  {
   "cell_type": "markdown",
   "metadata": {},
   "source": [
    "### Check in\n",
    "\n",
    "Can you define the following terms?\n",
    "\n",
    "- Forward pass\n",
    "- Loss\n",
    "- optimizer\n",
    "- \"Fitting\" a model\n"
   ]
  },
  {
   "cell_type": "markdown",
   "metadata": {},
   "source": [
    "## Guided Extension\n",
    "\n",
    "- Switch the dataset to `toy2` and fit the model again. **How does the model deal with the outlier?**\n",
    "- Switch the loss function to MAE loss and fit the model again. **How does the model deal with the outlier now?**"
   ]
  },
  {
   "cell_type": "markdown",
   "metadata": {},
   "source": [
    "... your thoughts here ..."
   ]
  }
 ],
 "metadata": {
  "kernelspec": {
   "display_name": "Python 3",
   "language": "python",
   "name": "python3"
  },
  "language_info": {
   "codemirror_mode": {
    "name": "ipython",
    "version": 3
   },
   "file_extension": ".py",
   "mimetype": "text/x-python",
   "name": "python",
   "nbconvert_exporter": "python",
   "pygments_lexer": "ipython3",
   "version": "3.12.9"
  }
 },
 "nbformat": 4,
 "nbformat_minor": 4
}
