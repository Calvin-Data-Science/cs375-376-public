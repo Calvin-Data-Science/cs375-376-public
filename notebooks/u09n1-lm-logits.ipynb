{
 "cells": [
  {
   "cell_type": "markdown",
   "metadata": {
    "id": "3jc8Qlh1TEgC"
   },
   "source": [
    "# Logits in Causal Language Models\n",
    "\n",
    "Task: Ask a language model for how likely each token is to be the next one."
   ]
  },
  {
   "cell_type": "markdown",
   "metadata": {
    "id": "f8_8RWp3TX-8"
   },
   "source": [
    "## Setup"
   ]
  },
  {
   "cell_type": "markdown",
   "metadata": {},
   "source": [
    "We start in the same way as the tokenization notebook:"
   ]
  },
  {
   "cell_type": "code",
   "execution_count": 1,
   "metadata": {
    "id": "osKgPaDwhaN4"
   },
   "outputs": [],
   "source": [
    "# If the import fails, uncomment the following line:\n",
    "# !pip install transformers\n",
    "import torch\n",
    "from torch import tensor\n",
    "from transformers import AutoTokenizer, AutoModelForCausalLM\n",
    "import pandas as pd\n",
    "# Avoid a warning message\n",
    "import os; os.environ[\"TOKENIZERS_PARALLELISM\"] = \"false\""
   ]
  },
  {
   "cell_type": "markdown",
   "metadata": {},
   "source": [
    "One step in this notebook will ask you to write a function. The most common error when function-ifying notebook code is accidentally using a global variable instead of a value computed in the function. This is a quick and dirty little utility to check for that mistake. (For a more polished version, check out [`localscope`](https://localscope.readthedocs.io/en/latest/README.html).)"
   ]
  },
  {
   "cell_type": "code",
   "execution_count": 2,
   "metadata": {},
   "outputs": [],
   "source": [
    "def check_global_vars(func, allowed_globals):\n",
    "    import inspect\n",
    "    used_globals = set(inspect.getclosurevars(func).globals.keys())\n",
    "    disallowed_globals = used_globals - set(allowed_globals)\n",
    "    if len(disallowed_globals) > 0:\n",
    "        raise AssertionError(f\"The function {func.__name__} used unexpected global variables: {list(disallowed_globals)}\")"
   ]
  },
  {
   "cell_type": "markdown",
   "metadata": {
    "id": "UiNKbIh8hyDg"
   },
   "source": [
    "Download and load the model."
   ]
  },
  {
   "cell_type": "code",
   "execution_count": 3,
   "metadata": {
    "id": "IM5o_4w1hfyV"
   },
   "outputs": [
    {
     "name": "stderr",
     "output_type": "stream",
     "text": [
      "2024-03-15 05:51:07.192186: I tensorflow/core/platform/cpu_feature_guard.cc:210] This TensorFlow binary is optimized to use available CPU instructions in performance-critical operations.\n",
      "To enable the following instructions: AVX2 FMA, in other operations, rebuild TensorFlow with the appropriate compiler flags.\n"
     ]
    }
   ],
   "source": [
    "from transformers import AutoTokenizer, AutoModelForCausalLM, set_seed\n",
    "model_name = \"openai-community/gpt2\"\n",
    "# Here's a few larger models you could try:\n",
    "# model_name = \"EleutherAI/pythia-1.4b-deduped\"\n",
    "# model_name = \"google/gemma-2b\"\n",
    "# model_name = \"google/gemma-2b-it\"\n",
    "# Note: you'll need to accept the license agreement on https://huggingface.co/google/gemma-7b to use Gemma models\n",
    "tokenizer = AutoTokenizer.from_pretrained(model_name, add_prefix_space=True)\n",
    "\n",
    "# add the EOS token as PAD token to avoid warnings\n",
    "model = AutoModelForCausalLM.from_pretrained(model_name)\n",
    "if model.generation_config.pad_token_id is None:\n",
    "    model.generation_config.pad_token_id = model.generation_config.eos_token_id\n",
    "# Silence a warning.\n",
    "tokenizer.decode([tokenizer.eos_token_id]);"
   ]
  },
  {
   "cell_type": "code",
   "execution_count": 4,
   "metadata": {
    "colab": {
     "base_uri": "https://localhost:8080/"
    },
    "id": "m-Z9_U0LUEVQ",
    "outputId": "cb7d4eb7-bc54-4583-dd10-e0cb185494da"
   },
   "outputs": [
    {
     "name": "stdout",
     "output_type": "stream",
     "text": [
      "The tokenizer has 50257 strings in its vocabulary.\n",
      "The model has 124,439,808 parameters.\n"
     ]
    }
   ],
   "source": [
    "print(f\"The tokenizer has {len(tokenizer.get_vocab())} strings in its vocabulary.\")\n",
    "print(f\"The model has {model.num_parameters():,d} parameters.\")"
   ]
  },
  {
   "cell_type": "markdown",
   "metadata": {
    "id": "OOUiz_PsUZgS"
   },
   "source": [
    "## Task\n",
    "\n",
    "In the tokenization notebook, we simply used the `generate` method to have the model generate some text. Now we'll do it ourselves.\n",
    "\n",
    "Consider the following phrase:"
   ]
  },
  {
   "cell_type": "code",
   "execution_count": 5,
   "metadata": {
    "id": "JS7Z-DjoUiLK"
   },
   "outputs": [],
   "source": [
    "phrase = \"This weekend I plan to\"\n",
    "# Another one to try later. This was a famous early example of the GPT-2 model:\n",
    "# phrase = \"In a shocking finding, scientists discovered a herd of unicorns living in\""
   ]
  },
  {
   "cell_type": "markdown",
   "metadata": {},
   "source": [
    "1: Call the `tokenizer` on the phrase to get a `batch`. After having a look at what goes in the `batch`, extract the `input_ids`."
   ]
  },
  {
   "cell_type": "code",
   "execution_count": 6,
   "metadata": {
    "id": "QpyeKakrjfpt"
   },
   "outputs": [],
   "source": [
    "batch = tokenizer(ph..., return_tensors='pt')\n",
    "input_ids = batch['in...']"
   ]
  },
  {
   "cell_type": "markdown",
   "metadata": {},
   "source": [
    "2: Call the `model` on the `input_ids`. Examine the shape of the logits."
   ]
  },
  {
   "cell_type": "code",
   "execution_count": 7,
   "metadata": {
    "colab": {
     "base_uri": "https://localhost:8080/"
    },
    "id": "ZEy1QBTDotjU",
    "outputId": "70a3312b-1bc7-47b0-c1d6-4739c93f56c0"
   },
   "outputs": [
    {
     "name": "stdout",
     "output_type": "stream",
     "text": [
      "logits shape: [1, 5, 50257]\n"
     ]
    }
   ],
   "source": [
    "with torch.no_grad(): # This tells PyTorch we don't need it to compute gradients for us.\n",
    "    model_output = model(...)\n",
    "print(f\"logits shape: {list(model_output.lo...)}\")"
   ]
  },
  {
   "attachments": {},
   "cell_type": "markdown",
   "metadata": {},
   "source": [
    "3: Pull out the logits corresponding to the *last* token in the input phrase. Hint: Think about what each number in the shape means.\n",
    "\n",
    "Note: The `model` returns an object that has multiple values. The `logits` are in `model_output.logits`."
   ]
  },
  {
   "cell_type": "code",
   "execution_count": 8,
   "metadata": {},
   "outputs": [],
   "source": [
    "last_token_logits = model_output.logits[...]\n",
    "assert last_token_logits.shape == (len(tokenizer.get_vocab()),)"
   ]
  },
  {
   "attachments": {},
   "cell_type": "markdown",
   "metadata": {},
   "source": [
    "4: Identify the token id and corresponding string of the most likely next token.\n",
    "\n",
    "To find the most likely token, we need to find the *index* of the *largest value* in the `last_token_logits`. The method that does this is called `argmax`. (It's a common enough operation that it's built into PyTorch.)\n",
    "\n",
    "Note: The `tokenizer` has a `decode` method that takes a token id, or a list of token ids, and returns the corresponding string."
   ]
  },
  {
   "cell_type": "code",
   "execution_count": 9,
   "metadata": {},
   "outputs": [],
   "source": [
    "# compute the probability distribution over the next token\n",
    "last_token_probabilities = last_token_logits.sof...(dim=-1)\n",
    "# dim=-1 means to compute the softmax over the last dimension"
   ]
  },
  {
   "cell_type": "code",
   "execution_count": 10,
   "metadata": {},
   "outputs": [
    {
     "name": "stdout",
     "output_type": "stream",
     "text": [
      "For the phrase: This weekend I plan to\n",
      "Most likely next token: 467, which corresponds to ' go', with probability 5.79%\n"
     ]
    }
   ],
   "source": [
    "most_likely_token_id = ...\n",
    "decoded_token = tokenizer.decode(most_likely_token_id)\n",
    "probability_of_most_likely_token = last_token_probabilities[...]\n",
    "\n",
    "print(\"For the phrase:\", phrase)\n",
    "print(f\"Most likely next token: {most_likely_token_id}, which corresponds to {repr(decoded_token)}, with probability {probability_of_most_likely_token:.2%}\")"
   ]
  },
  {
   "attachments": {},
   "cell_type": "markdown",
   "metadata": {},
   "source": [
    "5: Use the `topk` method to find the top-10 most likely choices for the next token.\n",
    "\n",
    "See the documentation for [`torch.topk`](https://pytorch.org/docs/stable/generated/torch.topk.html). Calling `topk` on a tensor returns a named tuple with two tensors: `values` and `indices`. The `values` are the top-k values, and the `indices` are the indices of those values in the original tensor. (In this case, the indices are the token ids.)\n",
    "\n",
    "*Note*: This uses Pandas to make a nicely displayed table, and a *list comprehension* to decode the tokens. You don't *need* to understand how this all works, but I highly encourage thinking about what's going on."
   ]
  },
  {
   "cell_type": "code",
   "execution_count": 11,
   "metadata": {},
   "outputs": [
    {
     "name": "stdout",
     "output_type": "stream",
     "text": [
      "most likely token index from topk is 467\n"
     ]
    },
    {
     "data": {
      "text/html": [
       "<style type=\"text/css\">\n",
       "#T_805ec_row0_col1 {\n",
       "  background-color: #023858;\n",
       "  color: #f1f1f1;\n",
       "}\n",
       "#T_805ec_row1_col1 {\n",
       "  background-color: #04598c;\n",
       "  color: #f1f1f1;\n",
       "}\n",
       "#T_805ec_row2_col1 {\n",
       "  background-color: #6ba5cd;\n",
       "  color: #f1f1f1;\n",
       "}\n",
       "#T_805ec_row3_col1 {\n",
       "  background-color: #83afd3;\n",
       "  color: #f1f1f1;\n",
       "}\n",
       "#T_805ec_row4_col1 {\n",
       "  background-color: #d2d3e7;\n",
       "  color: #000000;\n",
       "}\n",
       "#T_805ec_row5_col1 {\n",
       "  background-color: #e0deed;\n",
       "  color: #000000;\n",
       "}\n",
       "#T_805ec_row6_col1 {\n",
       "  background-color: #e7e3f0;\n",
       "  color: #000000;\n",
       "}\n",
       "#T_805ec_row7_col1 {\n",
       "  background-color: #f2ecf5;\n",
       "  color: #000000;\n",
       "}\n",
       "#T_805ec_row8_col1 {\n",
       "  background-color: #faf2f8;\n",
       "  color: #000000;\n",
       "}\n",
       "#T_805ec_row9_col1 {\n",
       "  background-color: #fff7fb;\n",
       "  color: #000000;\n",
       "}\n",
       "</style>\n",
       "<table id=\"T_805ec\">\n",
       "  <thead>\n",
       "    <tr>\n",
       "      <th id=\"T_805ec_level0_col0\" class=\"col_heading level0 col0\" >tokens</th>\n",
       "      <th id=\"T_805ec_level0_col1\" class=\"col_heading level0 col1\" >probabilities</th>\n",
       "    </tr>\n",
       "  </thead>\n",
       "  <tbody>\n",
       "    <tr>\n",
       "      <td id=\"T_805ec_row0_col0\" class=\"data row0 col0\" > go</td>\n",
       "      <td id=\"T_805ec_row0_col1\" class=\"data row0 col1\" >0.057941</td>\n",
       "    </tr>\n",
       "    <tr>\n",
       "      <td id=\"T_805ec_row1_col0\" class=\"data row1 col0\" > take</td>\n",
       "      <td id=\"T_805ec_row1_col1\" class=\"data row1 col1\" >0.053055</td>\n",
       "    </tr>\n",
       "    <tr>\n",
       "      <td id=\"T_805ec_row2_col0\" class=\"data row2 col0\" > attend</td>\n",
       "      <td id=\"T_805ec_row2_col1\" class=\"data row2 col1\" >0.038624</td>\n",
       "    </tr>\n",
       "    <tr>\n",
       "      <td id=\"T_805ec_row3_col0\" class=\"data row3 col0\" > visit</td>\n",
       "      <td id=\"T_805ec_row3_col1\" class=\"data row3 col1\" >0.036411</td>\n",
       "    </tr>\n",
       "    <tr>\n",
       "      <td id=\"T_805ec_row4_col0\" class=\"data row4 col0\" > be</td>\n",
       "      <td id=\"T_805ec_row4_col1\" class=\"data row4 col1\" >0.027353</td>\n",
       "    </tr>\n",
       "    <tr>\n",
       "      <td id=\"T_805ec_row5_col0\" class=\"data row5 col0\" > do</td>\n",
       "      <td id=\"T_805ec_row5_col1\" class=\"data row5 col1\" >0.024954</td>\n",
       "    </tr>\n",
       "    <tr>\n",
       "      <td id=\"T_805ec_row6_col0\" class=\"data row6 col0\" > make</td>\n",
       "      <td id=\"T_805ec_row6_col1\" class=\"data row6 col1\" >0.023816</td>\n",
       "    </tr>\n",
       "    <tr>\n",
       "      <td id=\"T_805ec_row7_col0\" class=\"data row7 col0\" > spend</td>\n",
       "      <td id=\"T_805ec_row7_col1\" class=\"data row7 col1\" >0.021305</td>\n",
       "    </tr>\n",
       "    <tr>\n",
       "      <td id=\"T_805ec_row8_col0\" class=\"data row8 col0\" > play</td>\n",
       "      <td id=\"T_805ec_row8_col1\" class=\"data row8 col1\" >0.019173</td>\n",
       "    </tr>\n",
       "    <tr>\n",
       "      <td id=\"T_805ec_row9_col0\" class=\"data row9 col0\" > travel</td>\n",
       "      <td id=\"T_805ec_row9_col1\" class=\"data row9 col1\" >0.017760</td>\n",
       "    </tr>\n",
       "  </tbody>\n",
       "</table>\n"
      ],
      "text/plain": [
       "<pandas.io.formats.style.Styler at 0x1779eaa50>"
      ]
     },
     "execution_count": 11,
     "metadata": {},
     "output_type": "execute_result"
    }
   ],
   "source": [
    "most_likely_tokens = last_token_logits.topk(...)\n",
    "print(f\"most likely token index from topk is {most_likely_tokens.indices[0]}\") # this should be the same as argmax\n",
    "decoded_tokens = [tokenizer.decode(...) for ... in most_likely_tokens.indices]\n",
    "probabilities_of_most_likely_tokens = last_token_probabilities[most_likely_tokens.indices]\n",
    "\n",
    "# Make a nice table to show the results\n",
    "most_likely_tokens_df = pd.DataFrame({\n",
    "    'tokens': decoded_tokens,\n",
    "    'probabilities': probabilities_of_most_likely_tokens,\n",
    "})\n",
    "# Show the table, in a nice formatted way (see https://pandas.pydata.org/pandas-docs/stable/user_guide/style.html#Builtin-Styles)\n",
    "# Caution: this \"gradient\" has *nothing* to do with gradient descent! (It's a color gradient.)\n",
    "most_likely_tokens_df.style.hide(axis='index').background_gradient()"
   ]
  },
  {
   "attachments": {},
   "cell_type": "markdown",
   "metadata": {},
   "source": [
    "6. Write a function that is given a phrase and a *k* and returns the `most_likely_tokens_df` DataFrame with the top *k* most likely next tokens. (Don't include the `style` line.)\n",
    "\n",
    "Build this function using only code that you've already filled in above. Clean up the code so that it doesn't do or display anything extraneous. Add comments about what each step does.\n"
   ]
  },
  {
   "cell_type": "code",
   "execution_count": 12,
   "metadata": {
    "colab": {
     "base_uri": "https://localhost:8080/"
    },
    "id": "kJWXqQLLkCyP",
    "outputId": "b969f2ed-2289-48c2-e717-b4802a493c5d"
   },
   "outputs": [],
   "source": [
    "def predict_next_tokens(...):\n",
    "    # your code here\n",
    "\n",
    "def show_tokens_df(tokens_df):\n",
    "    return tokens_df.style.hide(axis='index').background_gradient()\n",
    "\n",
    "check_global_vars(predict_next_tokens, allowed_globals=[\"torch\", \"tokenizer\", \"pd\", \"model\"])"
   ]
  },
  {
   "cell_type": "code",
   "execution_count": 13,
   "metadata": {},
   "outputs": [
    {
     "data": {
      "text/html": [
       "<style type=\"text/css\">\n",
       "#T_7db29_row0_col1 {\n",
       "  background-color: #023858;\n",
       "  color: #f1f1f1;\n",
       "}\n",
       "#T_7db29_row1_col1 {\n",
       "  background-color: #046096;\n",
       "  color: #f1f1f1;\n",
       "}\n",
       "#T_7db29_row2_col1 {\n",
       "  background-color: #a8bedc;\n",
       "  color: #000000;\n",
       "}\n",
       "#T_7db29_row3_col1 {\n",
       "  background-color: #c1cae2;\n",
       "  color: #000000;\n",
       "}\n",
       "#T_7db29_row4_col1 {\n",
       "  background-color: #fff7fb;\n",
       "  color: #000000;\n",
       "}\n",
       "</style>\n",
       "<table id=\"T_7db29\">\n",
       "  <thead>\n",
       "    <tr>\n",
       "      <th id=\"T_7db29_level0_col0\" class=\"col_heading level0 col0\" >tokens</th>\n",
       "      <th id=\"T_7db29_level0_col1\" class=\"col_heading level0 col1\" >probabilities</th>\n",
       "    </tr>\n",
       "  </thead>\n",
       "  <tbody>\n",
       "    <tr>\n",
       "      <td id=\"T_7db29_row0_col0\" class=\"data row0 col0\" > go</td>\n",
       "      <td id=\"T_7db29_row0_col1\" class=\"data row0 col1\" >0.057941</td>\n",
       "    </tr>\n",
       "    <tr>\n",
       "      <td id=\"T_7db29_row1_col0\" class=\"data row1 col0\" > take</td>\n",
       "      <td id=\"T_7db29_row1_col1\" class=\"data row1 col1\" >0.053055</td>\n",
       "    </tr>\n",
       "    <tr>\n",
       "      <td id=\"T_7db29_row2_col0\" class=\"data row2 col0\" > attend</td>\n",
       "      <td id=\"T_7db29_row2_col1\" class=\"data row2 col1\" >0.038624</td>\n",
       "    </tr>\n",
       "    <tr>\n",
       "      <td id=\"T_7db29_row3_col0\" class=\"data row3 col0\" > visit</td>\n",
       "      <td id=\"T_7db29_row3_col1\" class=\"data row3 col1\" >0.036411</td>\n",
       "    </tr>\n",
       "    <tr>\n",
       "      <td id=\"T_7db29_row4_col0\" class=\"data row4 col0\" > be</td>\n",
       "      <td id=\"T_7db29_row4_col1\" class=\"data row4 col1\" >0.027353</td>\n",
       "    </tr>\n",
       "  </tbody>\n",
       "</table>\n"
      ],
      "text/plain": [
       "<pandas.io.formats.style.Styler at 0x179201810>"
      ]
     },
     "execution_count": 13,
     "metadata": {},
     "output_type": "execute_result"
    }
   ],
   "source": [
    "show_tokens_df(predict_next_tokens(\"This weekend I plan to\", 5))"
   ]
  },
  {
   "cell_type": "code",
   "execution_count": 15,
   "metadata": {},
   "outputs": [
    {
     "data": {
      "text/html": [
       "<style type=\"text/css\">\n",
       "#T_6109a_row0_col1 {\n",
       "  background-color: #023858;\n",
       "  color: #f1f1f1;\n",
       "}\n",
       "#T_6109a_row1_col1, #T_6109a_row2_col1, #T_6109a_row3_col1, #T_6109a_row4_col1 {\n",
       "  background-color: #fff7fb;\n",
       "  color: #000000;\n",
       "}\n",
       "</style>\n",
       "<table id=\"T_6109a\">\n",
       "  <thead>\n",
       "    <tr>\n",
       "      <th id=\"T_6109a_level0_col0\" class=\"col_heading level0 col0\" >tokens</th>\n",
       "      <th id=\"T_6109a_level0_col1\" class=\"col_heading level0 col1\" >probabilities</th>\n",
       "    </tr>\n",
       "  </thead>\n",
       "  <tbody>\n",
       "    <tr>\n",
       "      <td id=\"T_6109a_row0_col0\" class=\"data row0 col0\" > be</td>\n",
       "      <td id=\"T_6109a_row0_col1\" class=\"data row0 col1\" >0.963997</td>\n",
       "    </tr>\n",
       "    <tr>\n",
       "      <td id=\"T_6109a_row1_col0\" class=\"data row1 col0\" > become</td>\n",
       "      <td id=\"T_6109a_row1_col1\" class=\"data row1 col1\" >0.004372</td>\n",
       "    </tr>\n",
       "    <tr>\n",
       "      <td id=\"T_6109a_row2_col0\" class=\"data row2 col0\" > have</td>\n",
       "      <td id=\"T_6109a_row2_col1\" class=\"data row2 col1\" >0.004315</td>\n",
       "    </tr>\n",
       "    <tr>\n",
       "      <td id=\"T_6109a_row3_col0\" class=\"data row3 col0\" > Be</td>\n",
       "      <td id=\"T_6109a_row3_col1\" class=\"data row3 col1\" >0.001392</td>\n",
       "    </tr>\n",
       "    <tr>\n",
       "      <td id=\"T_6109a_row4_col0\" class=\"data row4 col0\" > get</td>\n",
       "      <td id=\"T_6109a_row4_col1\" class=\"data row4 col1\" >0.000955</td>\n",
       "    </tr>\n",
       "  </tbody>\n",
       "</table>\n"
      ],
      "text/plain": [
       "<pandas.io.formats.style.Styler at 0x178f61610>"
      ]
     },
     "execution_count": 15,
     "metadata": {},
     "output_type": "execute_result"
    }
   ],
   "source": [
    "show_tokens_df(predict_next_tokens(\"To be or not to\", 5))"
   ]
  },
  {
   "cell_type": "code",
   "execution_count": null,
   "metadata": {},
   "outputs": [],
   "source": [
    "show_tokens_df(predict_next_tokens(\"For God so loved the\", 5))"
   ]
  },
  {
   "cell_type": "markdown",
   "metadata": {
    "id": "PsI_Tz0ipglx"
   },
   "source": [
    "## Analysis\n"
   ]
  },
  {
   "cell_type": "markdown",
   "metadata": {},
   "source": [
    "Q1: Explain the shape of `model_output.logits`.\n",
    "\n",
    "*your answer here*"
   ]
  },
  {
   "attachments": {},
   "cell_type": "markdown",
   "metadata": {},
   "source": [
    "Q2: Change the -1 in the definition of `last_token_logits` to -3. What does the variable represent now? What does its argmax represent?\n",
    "\n",
    "*your answer here*"
   ]
  },
  {
   "attachments": {},
   "cell_type": "markdown",
   "metadata": {},
   "source": [
    "Q3: Let's think. The method in this notebook only get the scores for *one* next-token at a time. What if we wanted to do a whole sentence? We’d have to generate a token for each word in that sentence. What are a few different ways we could we adapt the approach used in this notebook to generate a complete sentence?\n",
    "\n",
    "To think about different ways to do this, think about what decision(s) you have to make when generating each token.\n",
    "\n",
    "Note: you don't have to write any code to answer this question.\n",
    "\n",
    "*your answer here*"
   ]
  }
 ],
 "metadata": {
  "colab": {
   "authorship_tag": "ABX9TyOVes22Uvu4sPkNN1/P8/pg",
   "collapsed_sections": [],
   "include_colab_link": true,
   "name": "013-lm-logits",
   "provenance": []
  },
  "kernelspec": {
   "display_name": "Python 3",
   "language": "python",
   "name": "python3"
  },
  "language_info": {
   "codemirror_mode": {
    "name": "ipython",
    "version": 3
   },
   "file_extension": ".py",
   "mimetype": "text/x-python",
   "name": "python",
   "nbconvert_exporter": "python",
   "pygments_lexer": "ipython3",
   "version": "3.11.8"
  }
 },
 "nbformat": 4,
 "nbformat_minor": 0
}
