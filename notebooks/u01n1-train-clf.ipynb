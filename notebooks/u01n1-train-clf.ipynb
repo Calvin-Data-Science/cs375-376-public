{
 "cells": [
  {
   "attachments": {},
   "cell_type": "markdown",
   "metadata": {},
   "source": [
    "# Train a simple image classifier\n",
    "\n",
    "**Task**: Train a flower classifier.\n",
    "\n",
    "Outline:\n",
    "\n",
    "1. Load the data\n",
    "    1. Download the dataset.\n",
    "    2. Set up the dataloaders (which handles train-validation split, batching, and resizing)\n",
    "2. Train a model\n",
    "    1. Get a foundation model (an EfficentNet in our case)\n",
    "    2. Fine-tune it.\n",
    "3. Get the model's predictions on an image.\n",
    "\n",
    "This notebook includes tasks (marked with \"**Task**\") and blank code cells (labeled `# your code here`) to fill in your answers."
   ]
  },
  {
   "cell_type": "markdown",
   "metadata": {},
   "source": [
    "## Setup"
   ]
  },
  {
   "attachments": {},
   "cell_type": "markdown",
   "metadata": {},
   "source": [
    "**Run this code.** (You do not need to read or modify the code in this section to successfully complete this assignment.)"
   ]
  },
  {
   "cell_type": "code",
   "execution_count": null,
   "metadata": {},
   "outputs": [],
   "source": [
    "# Check versions of Keras and Tensorflow\n",
    "!pip list | egrep 'keras|tensorflow$'"
   ]
  },
  {
   "cell_type": "code",
   "execution_count": null,
   "metadata": {},
   "outputs": [],
   "source": [
    "import os\n",
    "# Results are better with the TensorFlow backend; this is probably a bug in Keras 3 but I haven't tracked it down.\n",
    "os.environ[\"KERAS_BACKEND\"] = \"tensorflow\"\n",
    "\n",
    "from IPython.display import display, HTML\n",
    "import io\n",
    "import numpy as np\n",
    "import pandas as pd\n",
    "import matplotlib.pyplot as plt\n",
    "from pathlib import Path\n",
    "import keras\n",
    "import keras_cv\n",
    "import tensorflow as tf\n",
    "import tensorflow_datasets as tfds\n",
    "print(f\"Keras version: {keras.__version__}, backend: {keras.backend.backend()}\")\n",
    "num_gpus = len(tf.config.list_physical_devices('GPU'))\n",
    "print(f\"GPUs: {num_gpus}\")\n",
    "if num_gpus == 0:\n",
    "    display(HTML(\"No GPUs available. Training will be slow. <b>Please enable an accelerator.</b>\"))"
   ]
  },
  {
   "cell_type": "markdown",
   "metadata": {},
   "source": [
    "## Configure our experiments\n",
    "\n",
    "You'll be invited to change parameters in this code block later; for now just run it as-is."
   ]
  },
  {
   "cell_type": "code",
   "execution_count": null,
   "metadata": {},
   "outputs": [],
   "source": [
    "class config:\n",
    "    seed = 123\n",
    "    learning_rate = 1e-3\n",
    "    epochs = 1\n",
    "    batch_size = 16\n",
    "    image_size = (256, 256)\n",
    "    model_preset = \"efficientnetv2_b0_imagenet\"\n",
    "    use_zero_init = True"
   ]
  },
  {
   "cell_type": "code",
   "execution_count": null,
   "metadata": {},
   "outputs": [],
   "source": [
    "# Reproducibility\n",
    "# See https://keras.io/examples/keras_recipes/reproducibility_recipes/\n",
    "#\n",
    "# Set a seed so that the results are the same every time this is run.\n",
    "keras.utils.set_random_seed(config.seed)\n",
    "\n",
    "# If using TensorFlow, this will make GPU ops as deterministic as possible,\n",
    "# but it will affect the overall performance, so be mindful of that.\n",
    "tf.config.experimental.enable_op_determinism()"
   ]
  },
  {
   "attachments": {},
   "cell_type": "markdown",
   "metadata": {},
   "source": [
    "### Load the data"
   ]
  },
  {
   "attachments": {},
   "cell_type": "markdown",
   "metadata": {},
   "source": [
    "We'll use a dataset of flower images for this example, but you can later switch this out for another dataset as long as you keep the file-and-folder structure.\n",
    "\n",
    "The details of the code in this section are not important at this time; just run these cells."
   ]
  },
  {
   "cell_type": "code",
   "execution_count": null,
   "metadata": {},
   "outputs": [],
   "source": [
    "path_to_downloaded_file = keras.utils.get_file(\n",
    "    origin=\"https://storage.googleapis.com/download.tensorflow.org/example_images/flower_photos.tgz\",\n",
    "    extract=True,\n",
    ")"
   ]
  },
  {
   "cell_type": "markdown",
   "metadata": {},
   "source": [
    "Let's see what just got downloaded."
   ]
  },
  {
   "cell_type": "code",
   "execution_count": null,
   "metadata": {},
   "outputs": [],
   "source": [
    "data_path = Path(path_to_downloaded_file).parent / 'flower_photos'\n",
    "!ls {data_path}"
   ]
  },
  {
   "cell_type": "markdown",
   "metadata": {},
   "source": [
    "We'll use a Keras helper function to load the data.\n",
    "\n",
    "Docs: https://keras.io/api/data_loading/image/#imagedatasetfromdirectory-function"
   ]
  },
  {
   "cell_type": "code",
   "execution_count": null,
   "metadata": {},
   "outputs": [],
   "source": [
    "# Define which classes we want to use, in what order.\n",
    "class_names = ['daisy', 'dandelion', 'roses', 'sunflowers', 'tulips']\n",
    "\n",
    "# Create training and validation datasets\n",
    "train_dataset, val_dataset = keras.utils.image_dataset_from_directory(\n",
    "    data_path,\n",
    "    validation_split=0.2,\n",
    "    labels='inferred',\n",
    "    class_names=class_names,\n",
    "    label_mode='int',\n",
    "    batch_size=config.batch_size,\n",
    "    image_size=config.image_size,\n",
    "    shuffle=True,\n",
    "    seed=128,\n",
    "    subset='both',\n",
    "    crop_to_aspect_ratio=True   \n",
    ")"
   ]
  },
  {
   "cell_type": "markdown",
   "metadata": {},
   "source": [
    "Let's show some example images."
   ]
  },
  {
   "cell_type": "code",
   "execution_count": null,
   "metadata": {},
   "outputs": [],
   "source": [
    "[[example_images, example_labels]] = train_dataset.take(1)\n",
    "fig, axs = plt.subplots(3, 3, figsize=(10, 10))\n",
    "for i, ax in enumerate(axs.flatten()):\n",
    "    ax.imshow(np.array(example_images[i]).astype('uint8'))\n",
    "    label = example_labels[i]\n",
    "    ax.set(title=f\"{label} ({class_names[label]})\")\n",
    "    ax.axis('off')\n",
    "# Alternative approach (doesn't show labels)\n",
    "# keras_cv.visualization.plot_image_gallery(example_images, value_range=(0, 255))"
   ]
  },
  {
   "attachments": {},
   "cell_type": "markdown",
   "metadata": {},
   "source": [
    "### Train a model\n",
    "\n",
    "We'll unpack this code over the next several weeks. For now, pay attention to the progress bar that will (eventually) show on the last line of the output."
   ]
  },
  {
   "cell_type": "code",
   "execution_count": null,
   "metadata": {},
   "outputs": [],
   "source": [
    "# Create a model using a pretrained backbone\n",
    "# See https://keras.io/api/keras_cv/models/tasks/image_classifier/ for options\n",
    "model = keras_cv.models.ImageClassifier.from_preset(\n",
    "    config.model_preset,\n",
    "    num_classes=len(class_names))\n",
    "\n",
    "# Zero the output-layer weights (they were randomly initialized, which adds noise to gradients when fine-tuning)\n",
    "# I was reminded of this by https://twitter.com/wightmanr/status/1742570388016758822\n",
    "if config.use_zero_init:\n",
    "    output_layer = model.layers[-1]\n",
    "    output_layer.set_weights([w * 0 for w in output_layer.weights])\n",
    "\n",
    "# Set up the model for training\n",
    "model.compile(\n",
    "    loss='sparse_categorical_crossentropy',\n",
    "    optimizer=keras.optimizers.Adam(learning_rate=config.learning_rate),\n",
    "    metrics=['accuracy']\n",
    ")\n",
    "model.summary(show_trainable=True)\n",
    "\n",
    "# Train the model. (Note: this may show some warnings, and it may stop without showing\n",
    "# progress for up to a minute while it translates the model to run on the GPU.)\n",
    "history = model.fit(\n",
    "    train_dataset,\n",
    "    validation_data=val_dataset,\n",
    "    epochs=config.epochs\n",
    ")"
   ]
  },
  {
   "cell_type": "markdown",
   "metadata": {},
   "source": [
    "**Task**: Fill in the table below, using the last line from the output above:"
   ]
  },
  {
   "cell_type": "markdown",
   "metadata": {},
   "source": [
    "- Training set accuracy: ___%\n",
    "- Validation set accuracy: ___%\n",
    "- Training loss:\n",
    "- Validation loss:"
   ]
  },
  {
   "attachments": {},
   "cell_type": "markdown",
   "metadata": {},
   "source": [
    "### Make some predictions"
   ]
  },
  {
   "cell_type": "code",
   "execution_count": null,
   "metadata": {},
   "outputs": [],
   "source": [
    "# Load a new image\n",
    "image_file = keras.utils.get_file(origin='https://upload.wikimedia.org/wikipedia/commons/thumb/c/c2/Beautiful_red_tulip.jpg/382px-Beautiful_red_tulip.jpg')\n",
    "image = keras.utils.load_img(image_file, target_size=(256, 256), keep_aspect_ratio=True)\n",
    "display(image)"
   ]
  },
  {
   "cell_type": "code",
   "execution_count": null,
   "metadata": {},
   "outputs": [],
   "source": [
    "probabilities = model.predict(np.array(image)[np.newaxis, ...])[0]\n",
    "pd.DataFrame({'class': class_names, 'prob': probabilities}).sort_values('prob', ascending=False)"
   ]
  },
  {
   "cell_type": "markdown",
   "metadata": {},
   "source": [
    "**Task**: Is the second column a valid probability distribution (ignoring round-off errors)? Describe why or why not."
   ]
  },
  {
   "cell_type": "markdown",
   "metadata": {},
   "source": [
    "*Your answer here.*"
   ]
  },
  {
   "cell_type": "markdown",
   "metadata": {},
   "source": [
    "**Task**: Write code to show the category with the highest predicted probability. To do this, use the `np.argmax` function and the `class_names` list.\n",
    "\n",
    "*Hint*: look at the value of the `probabilities` variable by making a code chunk with just `probabilities` in it."
   ]
  },
  {
   "cell_type": "code",
   "execution_count": null,
   "metadata": {
    "vscode": {
     "languageId": "plaintext"
    }
   },
   "outputs": [],
   "source": [
    "# your code here"
   ]
  },
  {
   "cell_type": "markdown",
   "metadata": {},
   "source": [
    "## Experimentation\n",
    "\n",
    "Try changing one parameter in the `config` code block above and rerun the notebook. What effect does this have on the validation accuracy? (Run the same parameters a few times with different values for `config.seed` to check if the result is robust.)\n",
    "\n",
    "Tip: an easy way to track your experiemnts is to copy and paste the final progress-bar line."
   ]
  },
  {
   "cell_type": "markdown",
   "metadata": {},
   "source": [
    "*Your answer here*"
   ]
  },
  {
   "cell_type": "markdown",
   "metadata": {},
   "source": [
    "## Optional extension: try out your own image\n",
    "\n",
    "Finish the code below to be able to try out the classifier on your own image."
   ]
  },
  {
   "cell_type": "code",
   "execution_count": null,
   "metadata": {},
   "outputs": [],
   "source": [
    "from ipywidgets import widgets\n",
    "uploader = widgets.FileUpload()\n",
    "uploader"
   ]
  },
  {
   "cell_type": "code",
   "execution_count": null,
   "metadata": {},
   "outputs": [],
   "source": [
    "if len(uploader.data) > 0:\n",
    "    image_file = io.BytesIO(uploader.data[0])\n",
    "    image = keras.utils.load_img(image_file, target_size=(256, 256), keep_aspect_ratio=True)\n",
    "    display(image)\n",
    "\n",
    "    # TODO: finish showing the predictions on this image and show the most likely class.\n",
    "    # your code here"
   ]
  }
 ],
 "metadata": {
  "kaggle": {
   "accelerator": "gpu",
   "isGpuEnabled": true,
   "isInternetEnabled": true,
   "language": "python",
   "sourceType": "notebook"
  },
  "kernelspec": {
   "display_name": "Python 3",
   "language": "python",
   "name": "python3"
  },
  "language_info": {
   "codemirror_mode": {
    "name": "ipython",
    "version": 3
   },
   "file_extension": ".py",
   "mimetype": "text/x-python",
   "name": "python",
   "nbconvert_exporter": "python",
   "pygments_lexer": "ipython3",
   "version": "3.10.5 | packaged by conda-forge | (main, Jun 14 2022, 07:03:09) [Clang 13.0.1 ]"
  }
 },
 "nbformat": 4,
 "nbformat_minor": 4
}
