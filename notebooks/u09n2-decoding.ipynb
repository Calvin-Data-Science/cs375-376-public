{
 "cells": [
  {
   "cell_type": "markdown",
   "metadata": {
    "id": "9O35L1Bcd2rU"
   },
   "source": [
    "## Translation as Language Modeling\n",
    "\n",
    "Goals:\n",
    "\n",
    "* Practice getting data into and out of a language model.\n",
    "    * embeddings (input and output)\n",
    "    * logits for next words\n",
    "    * cross-entropy loss\n",
    "* Explore different methods of *decoding* for sequence generation\n",
    "* Explain how data flows between the encoder and decoder in a sequence-to-sequence model\n",
    "* Interpret *attention weights*."
   ]
  },
  {
   "cell_type": "markdown",
   "metadata": {
    "id": "5ZNlX5Kbe3_R"
   },
   "source": [
    "## Setup"
   ]
  },
  {
   "cell_type": "markdown",
   "metadata": {
    "id": "ZyDS4bzee5Rq"
   },
   "source": [
    "Install libraries."
   ]
  },
  {
   "cell_type": "code",
   "execution_count": 1,
   "metadata": {
    "id": "xPTTlj3uW9FZ"
   },
   "outputs": [],
   "source": [
    "#%pip install -q datasets transformers[sentencepiece]"
   ]
  },
  {
   "cell_type": "markdown",
   "metadata": {
    "id": "QHHEJjq3fCqC"
   },
   "source": [
    "Import PyTorch and the HuggingFace Transformers library."
   ]
  },
  {
   "cell_type": "code",
   "execution_count": 2,
   "metadata": {
    "id": "ueA5Mqomo95h"
   },
   "outputs": [],
   "source": [
    "import torch\n",
    "import torch.nn as nn\n",
    "import torch.nn.functional as F\n",
    "import transformers\n",
    "import pandas as pd\n",
    "import matplotlib.pyplot as plt\n",
    "%matplotlib inline\n",
    "\n",
    "device = torch.device(\"cuda\" if torch.cuda.is_available() else \"cpu\")"
   ]
  },
  {
   "cell_type": "markdown",
   "metadata": {
    "id": "uegQ3XfbfNGS"
   },
   "source": [
    "Load a [Marian Machine Translation](https://huggingface.co/transformers/model_doc/marian.html) model.\n",
    "\n",
    "Specifically, we're using one that was trained on the OPUS corpus (`opus-mt`) to translate text in any romance language (`roa`) to English (`en`)."
   ]
  },
  {
   "cell_type": "code",
   "execution_count": 3,
   "metadata": {},
   "outputs": [
    {
     "name": "stderr",
     "output_type": "stream",
     "text": [
      "/Users/ka37/Courses/cs344/.venv/lib/python3.11/site-packages/transformers/models/marian/tokenization_marian.py:197: UserWarning: Recommended: pip install sacremoses.\n",
      "  warnings.warn(\"Recommended: pip install sacremoses.\")\n"
     ]
    },
    {
     "name": "stdout",
     "output_type": "stream",
     "text": [
      "The model has 77,943,296 parameters.\n"
     ]
    }
   ],
   "source": [
    "from transformers import MarianMTModel, MarianTokenizer\n",
    "model_name = 'Helsinki-NLP/opus-mt-roa-en'\n",
    "tokenizer = MarianTokenizer.from_pretrained(model_name)\n",
    "model = MarianMTModel.from_pretrained(model_name).to(device)\n",
    "print(f\"The model has {model.num_parameters():,d} parameters.\")"
   ]
  },
  {
   "cell_type": "markdown",
   "metadata": {
    "id": "3NDajxTdhLAp"
   },
   "source": [
    "Finally, these wrappers will make the code below easier to understand (you should completely ignore them)."
   ]
  },
  {
   "cell_type": "code",
   "execution_count": 4,
   "metadata": {
    "id": "sEgzyR1ShKjr"
   },
   "outputs": [],
   "source": [
    "from functools import partial\n",
    "from transformers.models.marian.modeling_marian import shift_tokens_right\n",
    "prepend_start_token = partial(\n",
    "    shift_tokens_right,\n",
    "    pad_token_id = model.config.pad_token_id, decoder_start_token_id = model.config.decoder_start_token_id)\n",
    "encoder = model.get_encoder()\n",
    "decoder = model.get_decoder()\n",
    "encoder.forward = partial(encoder.forward, output_attentions=True, output_hidden_states=True)\n",
    "decoder.forward = partial(decoder.forward, output_attentions=True, output_hidden_states=True)\n"
   ]
  },
  {
   "cell_type": "markdown",
   "metadata": {
    "id": "H4D35Lumfqsr"
   },
   "source": [
    "## Warm-up\n",
    "\n",
    "Let's practice with the tokenizer. This should be mostly review, but we'll do it in the way that the HuggingFace docs do it."
   ]
  },
  {
   "cell_type": "code",
   "execution_count": 5,
   "metadata": {
    "colab": {
     "base_uri": "https://localhost:8080/"
    },
    "id": "zZL-PQ5BosDz",
    "outputId": "86f75716-037c-4817-a7d3-0aea294b665b"
   },
   "outputs": [
    {
     "data": {
      "text/plain": [
       "{'input_ids': tensor([[ 2554,    29,    73,   131,   860, 21658,     3,     0]]), 'attention_mask': tensor([[1, 1, 1, 1, 1, 1, 1, 1]])}"
      ]
     },
     "execution_count": 5,
     "metadata": {},
     "output_type": "execute_result"
    }
   ],
   "source": [
    "spanish_text = \"Yo les doy vida eterna.\"\n",
    "spanish_batch = tokenizer(spanish_text, return_tensors='pt', padding=True, ).to(device)\n",
    "spanish_batch"
   ]
  },
  {
   "cell_type": "markdown",
   "metadata": {
    "id": "aKUhKBeAgVXf"
   },
   "source": [
    "Since we're only translating one sentence, we can ignore `attention_mask` (which just helps ignore padding tokens) and the extra initial dimension of the `input_ids`."
   ]
  },
  {
   "cell_type": "code",
   "execution_count": 6,
   "metadata": {
    "colab": {
     "base_uri": "https://localhost:8080/"
    },
    "id": "fIh9u_gEsbPm",
    "outputId": "6d52f3ed-c90e-4173-a52e-857095de9aa8"
   },
   "outputs": [
    {
     "data": {
      "text/plain": [
       "torch.Size([1, 8])"
      ]
     },
     "execution_count": 6,
     "metadata": {},
     "output_type": "execute_result"
    }
   ],
   "source": [
    "input_ids = spanish_batch.input_ids\n",
    "input_ids.shape"
   ]
  },
  {
   "cell_type": "code",
   "execution_count": 7,
   "metadata": {
    "colab": {
     "base_uri": "https://localhost:8080/"
    },
    "id": "exn_PoiHgjS-",
    "outputId": "1be82555-e860-4adf-c2fa-b61e37626cd4"
   },
   "outputs": [
    {
     "data": {
      "text/plain": [
       "['▁Yo', '▁les', '▁do', 'y', '▁vida', '▁eterna', '.', '</s>']"
      ]
     },
     "execution_count": 7,
     "metadata": {},
     "output_type": "execute_result"
    }
   ],
   "source": [
    "tokenizer.convert_ids_to_tokens(input_ids[0])"
   ]
  },
  {
   "cell_type": "markdown",
   "metadata": {
    "id": "Khl1_BY3gG9W"
   },
   "source": [
    "Now let's ask the model to generate a translation. Lots of magic happens here; we'll peel back the layers shortly."
   ]
  },
  {
   "cell_type": "code",
   "execution_count": 8,
   "metadata": {
    "colab": {
     "base_uri": "https://localhost:8080/"
    },
    "id": "4Q9a07LDnw-y",
    "outputId": "f6b24b3f-9b94-4891-9a60-865f89b33ce8"
   },
   "outputs": [
    {
     "data": {
      "text/plain": [
       "torch.Size([1, 8])"
      ]
     },
     "execution_count": 8,
     "metadata": {},
     "output_type": "execute_result"
    }
   ],
   "source": [
    "translated = model.generate(input_ids = input_ids, num_beams=1, do_sample=False)\n",
    "translated.shape"
   ]
  },
  {
   "cell_type": "markdown",
   "metadata": {
    "id": "9BTxglJpgm4Z"
   },
   "source": [
    "Decode the result!"
   ]
  },
  {
   "cell_type": "code",
   "execution_count": 9,
   "metadata": {
    "colab": {
     "base_uri": "https://localhost:8080/",
     "height": 36
    },
    "id": "IMz_2_OjrzHg",
    "outputId": "5ec05b53-a6ca-487b-e5b2-f9ab16633de5"
   },
   "outputs": [
    {
     "data": {
      "text/plain": [
       "'<pad> I give them eternal life.</s>'"
      ]
     },
     "execution_count": 9,
     "metadata": {},
     "output_type": "execute_result"
    }
   ],
   "source": [
    "english_text = tokenizer.decode(translated[0])\n",
    "english_text"
   ]
  },
  {
   "cell_type": "markdown",
   "metadata": {},
   "source": [
    "## Scoring a candidate translation\n",
    "\n",
    "The model gives us conditional probabilities of each word: `P(word_i | src, word_1, word_2, ..., word_{i-1})`. Those underflow, so we actually use the log probabilities, which are conveniently the cross-entropy loss values of each token."
   ]
  },
  {
   "cell_type": "markdown",
   "metadata": {
    "id": "ky84KWXGhcnj"
   },
   "source": [
    "First, let's look at the *loss* that the model gives. We'll compare the correct translation with an incorrect one:"
   ]
  },
  {
   "cell_type": "code",
   "execution_count": 10,
   "metadata": {
    "colab": {
     "base_uri": "https://localhost:8080/"
    },
    "id": "U7c5J26Dt6jZ",
    "outputId": "b911d599-0970-46ca-c2c8-7b259aef49ec"
   },
   "outputs": [],
   "source": [
    "def tokenize_target_sentence(sentence):\n",
    "    return tokenizer(text_target=sentence, return_tensors='pt', padding=True).to(device)['input_ids']\n",
    "correct_target_ids = tokenize_target_sentence(\"I give them eternal life.\")\n",
    "wrong_target_ids = tokenize_target_sentence(\"I give them eternal death.\")"
   ]
  },
  {
   "cell_type": "markdown",
   "metadata": {
    "id": "Vh9Px6rtRgDr"
   },
   "source": [
    "Let's **run a forward pass through the full model** (encoder and decoder) with the complete candidate translation. First, the correct translation:"
   ]
  },
  {
   "cell_type": "code",
   "execution_count": 11,
   "metadata": {
    "colab": {
     "base_uri": "https://localhost:8080/"
    },
    "id": "gYaAPmpRSX5S",
    "outputId": "2bafd185-724c-4155-b232-1e422d43504e"
   },
   "outputs": [
    {
     "data": {
      "text/plain": [
       "tensor(-0.2088)"
      ]
     },
     "execution_count": 11,
     "metadata": {},
     "output_type": "execute_result"
    }
   ],
   "source": [
    "@torch.no_grad() # We don't need to compute gradients \n",
    "def get_logprob_of_translation(src_ids, tgt_ids):\n",
    "    model_outputs = model(\n",
    "        input_ids = src_ids,\n",
    "        labels = tgt_ids\n",
    "    )\n",
    "    return -model_outputs.loss # TODO: multiply by num tokens? Replace by manually doing cross_entropy_loss?\n",
    "get_logprob_of_translation(spanish_batch.input_ids, correct_target_ids)"
   ]
  },
  {
   "cell_type": "markdown",
   "metadata": {
    "id": "pWbjU4Z4h8Ju"
   },
   "source": [
    "Now (**your turn**) the incorrect translation:"
   ]
  },
  {
   "cell_type": "code",
   "execution_count": 12,
   "metadata": {
    "colab": {
     "base_uri": "https://localhost:8080/"
    },
    "id": "2GRCRvyMW7u7",
    "outputId": "ca48ec81-cf87-49dd-cbc9-508e4e4ec99c"
   },
   "outputs": [
    {
     "data": {
      "text/plain": [
       "tensor(-1.3203)"
      ]
     },
     "execution_count": 12,
     "metadata": {},
     "output_type": "execute_result"
    }
   ],
   "source": [
    "# your code here"
   ]
  },
  {
   "cell_type": "markdown",
   "metadata": {
    "id": "l-suuWxoskRW"
   },
   "source": [
    "## Dig In!\n",
    "\n",
    "Ok now how did it do that?\n",
    "\n",
    "You may find it helpful to have the [documentation for the MarianMT model in HuggingFace Transformers](https://huggingface.co/transformers/model_doc/marian.html#transformers.MarianMTModel.forward) open. But you can do all of this without referring to it."
   ]
  },
  {
   "cell_type": "markdown",
   "metadata": {
    "id": "HHyWeU3SiHdm"
   },
   "source": [
    "### The guts of the model\n",
    "\n",
    "I've ripped out all the plumbing code and things you only need in special situations to just show the guts of the model below. **Study this code carefully** with the help of the questions below it. **Add comments** to describe what each line does. Include, where applicable, the *shape* of the tensors involved."
   ]
  },
  {
   "cell_type": "code",
   "execution_count": 13,
   "metadata": {
    "colab": {
     "base_uri": "https://localhost:8080/"
    },
    "id": "2U_cPjWunaTA",
    "outputId": "4db9d997-8078-4161-a1f1-2a339e8f40b3"
   },
   "outputs": [
    {
     "data": {
      "text/plain": [
       "tensor(0.2088)"
      ]
     },
     "execution_count": 13,
     "metadata": {},
     "output_type": "execute_result"
    }
   ],
   "source": [
    "encoder_input_ids = spanish_batch.input_ids\n",
    "target_ids = correct_target_ids\n",
    "decoder_input_ids = prepend_start_token(target_ids)\n",
    "\n",
    "with torch.no_grad():\n",
    "    encoder_outputs = encoder(input_ids = encoder_input_ids)\n",
    "\n",
    "    decoder_outputs = decoder(\n",
    "        input_ids = decoder_input_ids,\n",
    "        encoder_hidden_states = encoder_outputs.last_hidden_state\n",
    "    )\n",
    "\n",
    "    output_embedding = decoder_outputs.last_hidden_state\n",
    "    token_embeddings = model.lm_head.weight\n",
    "    logits = output_embedding @ token_embeddings.t()\n",
    "    logits += model.final_logits_bias\n",
    "\n",
    "    # ignore the batch dimension.\n",
    "    logits = logits[0]\n",
    "\n",
    "nlls_of_correct_tokens = F.cross_entropy(logits, target_ids[0], reduction='none')\n",
    "nlls_of_correct_tokens.mean()"
   ]
  },
  {
   "cell_type": "markdown",
   "metadata": {
    "id": "4b6mUhLkier6"
   },
   "source": [
    "**Explain `logits.shape`**."
   ]
  },
  {
   "cell_type": "code",
   "execution_count": 14,
   "metadata": {
    "colab": {
     "base_uri": "https://localhost:8080/"
    },
    "id": "CrqgcDuvZXig",
    "outputId": "0c085f29-33fd-46a1-9aa3-f4f0a1a735dd"
   },
   "outputs": [
    {
     "data": {
      "text/plain": [
       "torch.Size([7, 65001])"
      ]
     },
     "execution_count": 14,
     "metadata": {},
     "output_type": "execute_result"
    }
   ],
   "source": [
    "logits.shape"
   ]
  },
  {
   "cell_type": "markdown",
   "metadata": {
    "id": "4AJavHl0ik-D"
   },
   "source": [
    "*your narrative answer here*"
   ]
  },
  {
   "cell_type": "code",
   "execution_count": 15,
   "metadata": {
    "colab": {
     "base_uri": "https://localhost:8080/"
    },
    "id": "F7lk2zRdZapr",
    "outputId": "88002490-9be6-4d82-e53c-8874c5f571f4"
   },
   "outputs": [
    {
     "data": {
      "text/plain": [
       "['▁I', '▁give', '▁them', '▁eternal', '▁life', '.', '</s>']"
      ]
     },
     "execution_count": 15,
     "metadata": {},
     "output_type": "execute_result"
    }
   ],
   "source": [
    "tokenizer.convert_ids_to_tokens(logits.argmax(dim=1))"
   ]
  },
  {
   "cell_type": "code",
   "execution_count": 16,
   "metadata": {
    "colab": {
     "base_uri": "https://localhost:8080/"
    },
    "id": "kpcAYSzWaPKw",
    "outputId": "a27a51ce-511f-4cb7-d319-42443b627539"
   },
   "outputs": [
    {
     "data": {
      "text/plain": [
       "['▁I', '▁give', '▁them', '▁eternal', '▁life', '.', '</s>']"
      ]
     },
     "execution_count": 16,
     "metadata": {},
     "output_type": "execute_result"
    }
   ],
   "source": [
    "tokenizer.convert_ids_to_tokens(target_ids[0])"
   ]
  },
  {
   "cell_type": "markdown",
   "metadata": {
    "id": "kPojgCC_Y4w6"
   },
   "source": [
    "**What tensor contains all of the information from the Spanish sentence that is used to generate the English sentence? Explain each element of the shape of that tensor.**\n",
    "\n",
    "(The leading \"1\" is the batch dimension; you can ignore this unless you're translating multiple sentence simultaneously.)"
   ]
  },
  {
   "cell_type": "markdown",
   "metadata": {
    "id": "D7POLGH8Ni_a"
   },
   "source": [
    "**What is the \"shape\" of this model?** Specifically:\n",
    "\n",
    "1. What is the dimensionality of the hidden vectors it uses to represent everything? (How does this relate to the dimensionality of the token embeddings?)\n",
    "2. How many internal layers does the model have?"
   ]
  },
  {
   "cell_type": "code",
   "execution_count": 17,
   "metadata": {
    "colab": {
     "base_uri": "https://localhost:8080/"
    },
    "id": "h3pIYTlgWXjy",
    "outputId": "d1d2ed3a-d7e2-4f37-a902-c2929c2a06f7"
   },
   "outputs": [
    {
     "data": {
      "text/plain": [
       "torch.Size([1, 8, 512])"
      ]
     },
     "execution_count": 17,
     "metadata": {},
     "output_type": "execute_result"
    }
   ],
   "source": [
    "encoder_outputs.last_hidden_state.shape"
   ]
  },
  {
   "cell_type": "code",
   "execution_count": 18,
   "metadata": {
    "colab": {
     "base_uri": "https://localhost:8080/"
    },
    "id": "NAL9E2RVvY3f",
    "outputId": "bf4c9f0e-4e65-4924-84a7-d1504df25b91"
   },
   "outputs": [
    {
     "data": {
      "text/plain": [
       "6"
      ]
     },
     "execution_count": 18,
     "metadata": {},
     "output_type": "execute_result"
    }
   ],
   "source": [
    "model.config.num_hidden_layers"
   ]
  },
  {
   "cell_type": "markdown",
   "metadata": {
    "id": "JoQm5WSMvd6a"
   },
   "source": [
    "## Visualize attentions\n",
    "\n",
    "Read these as: the row token looks at the column token.\n",
    "\n",
    "There are actually 8 attention heads for each of the 6 layers, so to visualize simply, we take the mean over the attention weights (which are all positive)."
   ]
  },
  {
   "cell_type": "code",
   "execution_count": 19,
   "metadata": {
    "colab": {
     "base_uri": "https://localhost:8080/"
    },
    "id": "YtC2auFF-bVr",
    "outputId": "21f1ee4e-954e-4389-eb3a-1d5d9d8f0c02"
   },
   "outputs": [
    {
     "data": {
      "text/plain": [
       "torch.Size([1, 8, 7, 8])"
      ]
     },
     "execution_count": 19,
     "metadata": {},
     "output_type": "execute_result"
    }
   ],
   "source": [
    "decoder_outputs.cross_attentions[0].shape"
   ]
  },
  {
   "cell_type": "code",
   "execution_count": 20,
   "metadata": {
    "colab": {
     "base_uri": "https://localhost:8080/",
     "height": 281
    },
    "id": "OXXjXCbGvTd7",
    "outputId": "a2a94beb-02a3-4adc-fa4d-4865004d5622"
   },
   "outputs": [
    {
     "data": {
      "image/png": "[encoded data removed]",
      "text/plain": [
       "<Figure size 1200x1200 with 4 Axes>"
      ]
     },
     "metadata": {},
     "output_type": "display_data"
    }
   ],
   "source": [
    "layer = -1\n",
    "if layer < 0: layer += len(encoder_outputs.attentions)\n",
    "\n",
    "fig, axs = plt.subplots(2, 2, figsize=(12, 12))\n",
    "\n",
    "encoder_tokens = tokenizer.convert_ids_to_tokens(encoder_input_ids[0])\n",
    "decoder_tokens = tokenizer.convert_ids_to_tokens(decoder_input_ids[0])\n",
    "encoder_ticks = torch.arange(len(encoder_tokens)) + 0.5\n",
    "decoder_ticks = torch.arange(len(decoder_tokens)) + 0.5\n",
    "\n",
    "ax = axs[0, 0]\n",
    "ax.pcolormesh(encoder_outputs.attentions[layer][0].mean(dim=0).cpu().numpy())\n",
    "ax.set_title(f\"Encoder Self-Attention Weights for layer {layer} (avg over all {model.config.num_attention_heads} heads)\")\n",
    "ax.set_xticks(encoder_ticks, encoder_tokens)\n",
    "ax.set_yticks(encoder_ticks, encoder_tokens)\n",
    "\n",
    "ax = axs[0, 1]\n",
    "ax.pcolormesh(decoder_outputs.cross_attentions[layer][0].mean(dim=0).cpu().numpy(), vmin=0, vmax=1)\n",
    "ax.set_title(f\"Cross-Attention Weights for layer {layer} (avg over all {model.config.num_attention_heads} heads)\")\n",
    "ax.set_xticks(encoder_ticks, encoder_tokens)\n",
    "ax.set_yticks(decoder_ticks, decoder_tokens);\n",
    "\n",
    "ax = axs[1, 0]\n",
    "ax.pcolormesh(decoder_outputs.attentions[layer][0].mean(dim=0).cpu().numpy())\n",
    "ax.set_title(f\"Decoder Self-Attention Weights for layer {layer} (avg over all {model.config.num_attention_heads} heads)\")\n",
    "ax.set_xticks(torch.arange(7)+.5, tokenizer.convert_ids_to_tokens(decoder_input_ids[0]))\n",
    "ax.set_yticks(torch.arange(7)+.5, tokenizer.convert_ids_to_tokens(decoder_input_ids[0]));"
   ]
  },
  {
   "cell_type": "markdown",
   "metadata": {
    "id": "feICCpckNMyE"
   },
   "source": [
    "## Similarity\n",
    "\n",
    "Notice that the last step of the model is a dot product with all the token embeddings. Recall that a dot product is a measure of similarity. Let's look at similarity in embedding space."
   ]
  },
  {
   "cell_type": "code",
   "execution_count": 21,
   "metadata": {
    "id": "7Gm31JRPPGnb"
   },
   "outputs": [],
   "source": [
    "normalized_token_embeddings = token_embeddings / token_embeddings.norm(p=2, dim=1, keepdim=True)"
   ]
  },
  {
   "cell_type": "code",
   "execution_count": 22,
   "metadata": {
    "colab": {
     "base_uri": "https://localhost:8080/"
    },
    "id": "sjLZvKHRNMqY",
    "outputId": "0518ea51-79d9-4440-c3d6-a27a57e425d7"
   },
   "outputs": [
    {
     "name": "stdout",
     "output_type": "stream",
     "text": [
      "[5226]\n"
     ]
    },
    {
     "data": {
      "text/plain": [
       "['<pad>',\n",
       " '▁London',\n",
       " '▁Moscow',\n",
       " '▁Cambridge',\n",
       " '▁Kingston',\n",
       " '▁Bremen',\n",
       " '▁Windsor',\n",
       " '▁Philadelphia',\n",
       " '▁Melbourne',\n",
       " '▁Baltimore',\n",
       " '▁Bristol',\n",
       " '▁Cleveland',\n",
       " '▁Houston',\n",
       " '▁Belfast',\n",
       " '▁Denver',\n",
       " '▁Baghdad',\n",
       " '▁Liverpool',\n",
       " '▁Oregon',\n",
       " '▁England',\n",
       " '▁Edinburgh',\n",
       " '▁Tripoli',\n",
       " '▁Missouri',\n",
       " '▁Flanders',\n",
       " '▁Mumbai',\n",
       " '▁Churchill',\n",
       " '▁Istanbul',\n",
       " '▁Bermuda',\n",
       " '▁Barcelona',\n",
       " '▁Kentucky',\n",
       " '▁Detroit',\n",
       " '▁Honda',\n",
       " '▁Lorraine',\n",
       " '▁Tibet',\n",
       " '▁Brussels',\n",
       " '▁Lusaka',\n",
       " '▁Honduran',\n",
       " '▁Madison',\n",
       " '▁Bordeaux',\n",
       " '▁Mormon',\n",
       " '▁Maryland',\n",
       " '▁Alabama',\n",
       " '▁Damascus',\n",
       " '▁Tibetan',\n",
       " '▁Versailles',\n",
       " '▁Iowa',\n",
       " '▁Orleans',\n",
       " '▁Burgundy',\n",
       " '▁Naples',\n",
       " '▁Murcia',\n",
       " '▁Glasgow']"
      ]
     },
     "execution_count": 22,
     "metadata": {},
     "output_type": "execute_result"
    }
   ],
   "source": [
    "query_word = \"London\"\n",
    "query_ids = tokenizer(text_target=query_word, add_special_tokens=False)['input_ids']\n",
    "print(query_ids)\n",
    "query = token_embeddings[query_ids].mean(dim=0)\n",
    "similarities = query @ normalized_token_embeddings.t()\n",
    "most_similar_indices = similarities.topk(50).indices\n",
    "tokenizer.convert_ids_to_tokens(most_similar_indices)"
   ]
  },
  {
   "cell_type": "markdown",
   "metadata": {
    "id": "nwmyxQSWS23W"
   },
   "source": [
    "**Your turn**: now, take query vectors from the `output_embeddings` that were calculated above and find the most similar token embeddings.\n",
    "\n",
    "Compare the results with the translation output you saw from the model earlier."
   ]
  },
  {
   "cell_type": "code",
   "execution_count": 23,
   "metadata": {
    "colab": {
     "base_uri": "https://localhost:8080/"
    },
    "id": "vU1LuB7LSnWx",
    "outputId": "4b712d7f-1971-4895-882b-bf99fb1b7d68"
   },
   "outputs": [
    {
     "data": {
      "text/plain": [
       "['▁them',\n",
       " '▁you',\n",
       " '▁eternal',\n",
       " \"▁'\",\n",
       " '▁to',\n",
       " '▁everlasting',\n",
       " '▁it',\n",
       " '▁the',\n",
       " \"'\",\n",
       " ',',\n",
       " '▁these',\n",
       " '▁unto',\n",
       " '▁[',\n",
       " '▁him',\n",
       " '▁forever',\n",
       " '▁all',\n",
       " '▁that',\n",
       " '▁their',\n",
       " '▁those',\n",
       " '▁up',\n",
       " '▁life',\n",
       " '▁they',\n",
       " '▁for',\n",
       " '▁y',\n",
       " '▁You',\n",
       " '▁ye',\n",
       " '▁out',\n",
       " '▁Oh',\n",
       " '▁I',\n",
       " '▁your',\n",
       " '▁an',\n",
       " '▁people',\n",
       " '▁-',\n",
       " '▁eternity',\n",
       " '▁\"',\n",
       " '▁(',\n",
       " '▁YOU',\n",
       " '▁such',\n",
       " '▁her',\n",
       " '▁birth',\n",
       " '▁us',\n",
       " '▁perpetual',\n",
       " '▁forth',\n",
       " '▁of',\n",
       " '▁this',\n",
       " '▁a',\n",
       " '▁lasting',\n",
       " '▁Eternal',\n",
       " '▁lifelong',\n",
       " '▁Him']"
      ]
     },
     "execution_count": 23,
     "metadata": {},
     "output_type": "execute_result"
    }
   ],
   "source": [
    "# your code here"
   ]
  }
 ],
 "metadata": {
  "kernelspec": {
   "display_name": "Python 3",
   "language": "python",
   "name": "python3"
  },
  "language_info": {
   "codemirror_mode": {
    "name": "ipython",
    "version": 3
   },
   "file_extension": ".py",
   "mimetype": "text/x-python",
   "name": "python",
   "nbconvert_exporter": "python",
   "pygments_lexer": "ipython3",
   "version": "3.11.8"
  }
 },
 "nbformat": 4,
 "nbformat_minor": 1
}
