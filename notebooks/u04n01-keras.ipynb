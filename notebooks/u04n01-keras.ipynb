{
 "cells": [
  {
   "cell_type": "markdown",
   "metadata": {},
   "source": [
    "# Linear and Logistic Regression with Keras"
   ]
  },
  {
   "cell_type": "markdown",
   "metadata": {},
   "source": [
    "## Setup"
   ]
  },
  {
   "cell_type": "code",
   "execution_count": null,
   "metadata": {
    "execution": {
     "iopub.execute_input": "2024-02-09T14:01:34.256968Z",
     "iopub.status.busy": "2024-02-09T14:01:34.255367Z",
     "iopub.status.idle": "2024-02-09T14:01:58.023084Z",
     "shell.execute_reply": "2024-02-09T14:01:58.021300Z",
     "shell.execute_reply.started": "2024-02-09T14:01:34.256918Z"
    }
   },
   "outputs": [],
   "source": [
    "# Note: a \"dependency resolver\" error may occur here; ignore it.\n",
    "!pip list | egrep 'keras|tensorflow |torch '\n",
    "!pip install -U keras"
   ]
  },
  {
   "cell_type": "code",
   "execution_count": null,
   "metadata": {
    "execution": {
     "iopub.execute_input": "2024-02-09T14:01:58.027051Z",
     "iopub.status.busy": "2024-02-09T14:01:58.026548Z",
     "iopub.status.idle": "2024-02-09T14:02:07.254657Z",
     "shell.execute_reply": "2024-02-09T14:02:07.253281Z",
     "shell.execute_reply.started": "2024-02-09T14:01:58.027010Z"
    }
   },
   "outputs": [],
   "source": [
    "import os\n",
    "os.environ[\"KERAS_BACKEND\"] = \"torch\"\n",
    "import keras\n",
    "print(\"Keras\", keras.__version__, 'on', keras.backend.backend())\n",
    "assert keras.__version__.startswith('3'), \"Somehow got Keras 2; try stopping and restarting the session\"\n",
    "import numpy as np\n",
    "np.set_printoptions(precision=3)\n",
    "import matplotlib\n",
    "import matplotlib.pyplot as plt\n",
    "import pandas as pd\n",
    "\n",
    "def show_weight_images(linear_layer):\n",
    "    weights, bias = linear_layer.get_weights()\n",
    "    weight_images = weights.T.reshape(-1, 28, 28)\n",
    "    if weight_images.shape[0] == 10:\n",
    "        nrow, ncol = 2, 5\n",
    "    else:\n",
    "        nrow, ncol = 1, 1\n",
    "    with matplotlib.rc_context(rc={'image.cmap': 'RdBu'}):\n",
    "        vmax = np.abs(weight_images).max()\n",
    "        fig, axs = plt.subplots(nrow, ncol, squeeze=False)\n",
    "        for i, ax in enumerate(axs.flatten()):\n",
    "            ax.imshow(weight_images[i], vmax=vmax, vmin=-vmax)\n",
    "            ax.set(title=f'{i}')\n",
    "            ax.axis('off')"
   ]
  },
  {
   "cell_type": "markdown",
   "metadata": {},
   "source": [
    "# Data Loading"
   ]
  },
  {
   "cell_type": "code",
   "execution_count": null,
   "metadata": {
    "execution": {
     "iopub.execute_input": "2024-02-09T14:02:07.256885Z",
     "iopub.status.busy": "2024-02-09T14:02:07.256236Z",
     "iopub.status.idle": "2024-02-09T14:02:07.272959Z",
     "shell.execute_reply": "2024-02-09T14:02:07.271041Z",
     "shell.execute_reply.started": "2024-02-09T14:02:07.256838Z"
    }
   },
   "outputs": [],
   "source": [
    "from keras.datasets import mnist\n",
    "\n",
    "DATASET = 'toy2'\n",
    "\n",
    "if DATASET == 'toy':\n",
    "    x = np.array([0, 1, 2, 3])[:, np.newaxis]\n",
    "    y_true = np.array([-1, .5, 2.0, 3.5])[:, np.newaxis]\n",
    "elif DATASET == 'toy2':\n",
    "    x = np.array([0, 1, 2, 3])[:, np.newaxis]\n",
    "    y_true = np.array([-1, .5, 2.0, 25])[:, np.newaxis]\n",
    "elif DATASET == \"temps\":\n",
    "    data = pd.read_csv(\"https://data.giss.nasa.gov/gistemp/graphs_v4/graph_data/Global_Mean_Estimates_based_on_Land_and_Ocean_Data/graph.csv\", skiprows=1)\n",
    "    # Shape x to be items-by-features\n",
    "    x = data.iloc[:, 0].values.astype(np.float32)[:, np.newaxis]\n",
    "    # scale x to a reasonable range\n",
    "    x -= 1880.0\n",
    "    x /= 100.\n",
    "    y_true = data.iloc[:, 1].values.astype(np.float32)[:, np.newaxis]\n",
    "elif DATASET == 'mnist':\n",
    "    (train_images, train_labels), (test_images, test_labels) = mnist.load_data()\n",
    "\n",
    "    train_images = train_images.reshape((60000, 28 * 28))\n",
    "    train_images = train_images.astype(\"float32\") / 255\n",
    "    test_images = test_images.reshape((10000, 28 * 28))\n",
    "    test_images = test_images.astype(\"float32\") / 255\n",
    "    \n",
    "    # Rename to match the convention of our notebook\n",
    "    x, y_true = train_images, train_labels\n",
    "    del train_images, train_labels\n",
    "else:\n",
    "    raise Exception(\"Unknown dataset\")"
   ]
  },
  {
   "cell_type": "markdown",
   "metadata": {},
   "source": [
    "Show the data (or an example item from it)"
   ]
  },
  {
   "cell_type": "code",
   "execution_count": null,
   "metadata": {
    "execution": {
     "iopub.execute_input": "2024-02-09T14:02:07.277432Z",
     "iopub.status.busy": "2024-02-09T14:02:07.276953Z",
     "iopub.status.idle": "2024-02-09T14:02:07.907459Z",
     "shell.execute_reply": "2024-02-09T14:02:07.906417Z",
     "shell.execute_reply.started": "2024-02-09T14:02:07.277400Z"
    }
   },
   "outputs": [],
   "source": [
    "if len(x) < 50:\n",
    "    plt.scatter(x, y_true)\n",
    "elif x.shape[1] == 1:\n",
    "    plt.plot(x, y_true)\n",
    "else:\n",
    "    with matplotlib.rc_context(rc={'image.cmap': 'gray_r'}):\n",
    "        plt.imshow(x[0].reshape(28, 28))\n",
    "print(\"x shape\", x.shape, \"y_true shape\", y_true.shape)"
   ]
  },
  {
   "cell_type": "markdown",
   "metadata": {},
   "source": [
    "# Train and Evaluate Model"
   ]
  },
  {
   "cell_type": "code",
   "execution_count": null,
   "metadata": {
    "execution": {
     "iopub.execute_input": "2024-02-09T14:02:07.911375Z",
     "iopub.status.busy": "2024-02-09T14:02:07.910508Z",
     "iopub.status.idle": "2024-02-09T14:02:08.757930Z",
     "shell.execute_reply": "2024-02-09T14:02:08.756734Z",
     "shell.execute_reply.started": "2024-02-09T14:02:07.911332Z"
    }
   },
   "outputs": [],
   "source": [
    "model = keras.Sequential([\n",
    "    keras.layers.Input(shape=(1,)),\n",
    "    keras.layers.Dense(1)\n",
    "])\n",
    "model.compile(\n",
    "    optimizer=keras.optimizers.SGD(learning_rate=0.1),\n",
    "    loss='mse',\n",
    ")\n",
    "history = model.fit(x, y_true, epochs=50)"
   ]
  },
  {
   "cell_type": "code",
   "execution_count": null,
   "metadata": {
    "execution": {
     "iopub.execute_input": "2024-02-09T14:02:08.760104Z",
     "iopub.status.busy": "2024-02-09T14:02:08.759763Z",
     "iopub.status.idle": "2024-02-09T14:02:09.424027Z",
     "shell.execute_reply": "2024-02-09T14:02:09.422358Z",
     "shell.execute_reply.started": "2024-02-09T14:02:08.760076Z"
    }
   },
   "outputs": [],
   "source": [
    "# Extract results from Keras\n",
    "y_pred = model.predict(x)\n",
    "losses = history.history['loss']\n",
    "linear_layer = model.layers[-1]\n",
    "weights, bias = linear_layer.get_weights()\n",
    "\n",
    "# Plot the results\n",
    "fig, axs = plt.subplots(ncols=2, figsize=(10, 4))\n",
    "axs[0].plot(losses)\n",
    "axs[0].set(title=\"Loss\", xlabel=\"iteration\", ylabel=\"Loss\")\n",
    "if x.shape[1] == 1:\n",
    "    axs[1].scatter(x, y_true)\n",
    "    axs[1].plot(x, y_pred, 'r');\n",
    "    axs[1].set(title=\"Fitted model\", xlabel='x', ylabel='y')\n",
    "else:\n",
    "    axs[1].hist(y_pred.flatten(), bins=30)\n",
    "    axs[1].set(title=\"Values in predictions\")\n",
    "print(f\"Final Loss: {losses[-1]:.3f}, final weights: {weights.flatten() if len(weights.flatten()) < 25 else weights.shape}, final bias: {bias}\")"
   ]
  },
  {
   "cell_type": "code",
   "execution_count": null,
   "metadata": {
    "execution": {
     "iopub.execute_input": "2024-02-09T14:02:09.426799Z",
     "iopub.status.busy": "2024-02-09T14:02:09.426409Z",
     "iopub.status.idle": "2024-02-09T14:02:09.432954Z",
     "shell.execute_reply": "2024-02-09T14:02:09.431403Z",
     "shell.execute_reply.started": "2024-02-09T14:02:09.426768Z"
    }
   },
   "outputs": [],
   "source": [
    "# show_weight_images(linear_layer)"
   ]
  },
  {
   "cell_type": "markdown",
   "metadata": {},
   "source": [
    "# Analysis"
   ]
  },
  {
   "cell_type": "code",
   "execution_count": null,
   "metadata": {},
   "outputs": [],
   "source": []
  }
 ],
 "metadata": {
  "kaggle": {
   "accelerator": "none",
   "dataSources": [],
   "dockerImageVersionId": 30646,
   "isGpuEnabled": false,
   "isInternetEnabled": true,
   "language": "python",
   "sourceType": "notebook"
  },
  "kernelspec": {
   "display_name": "Python 3",
   "language": "python",
   "name": "python3"
  },
  "language_info": {
   "codemirror_mode": {
    "name": "ipython",
    "version": 3
   },
   "file_extension": ".py",
   "mimetype": "text/x-python",
   "name": "python",
   "nbconvert_exporter": "python",
   "pygments_lexer": "ipython3",
   "version": "3.10.13"
  }
 },
 "nbformat": 4,
 "nbformat_minor": 4
}
