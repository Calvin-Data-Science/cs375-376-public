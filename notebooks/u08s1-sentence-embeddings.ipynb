{
  "cells": [
    {
      "cell_type": "markdown",
      "metadata": {
        "id": "JdFT118Pw-4z"
      },
      "source": [
        "# Sentence Embeddings\n",
        "\n",
        "We'll see how we can represent *sentences* using *vectors* in a high-dimensional space, and how we measure and visualize *similarity* in that space.\n",
        "\n",
        "\n",
        "Example based on https://github.com/UKPLab/sentence-transformers/blob/master/examples/applications/clustering/fast_clustering.py\n"
      ]
    },
    {
      "cell_type": "markdown",
      "metadata": {
        "id": "AGbR8zD7Z18I"
      },
      "source": [
        "## Install and Import\n",
        "\n",
        "Press the Run button below (next to \"3 cells hidden\")"
      ]
    },
    {
      "cell_type": "code",
      "execution_count": null,
      "metadata": {
        "id": "MsoFJqXBufv-"
      },
      "outputs": [],
      "source": [
        "# Install the needed libraries\n",
        "!pip install -q sentence-transformers"
      ]
    },
    {
      "cell_type": "code",
      "execution_count": null,
      "metadata": {
        "id": "QCaTOyTtwKtc"
      },
      "outputs": [],
      "source": [
        "# Set up TensorBoard to view the embeddings.\n",
        "\n",
        "import tensorflow as tf\n",
        "import tensorboard as tb\n",
        "from torch.utils.tensorboard import SummaryWriter\n",
        "\n",
        "%load_ext tensorboard"
      ]
    },
    {
      "cell_type": "code",
      "execution_count": null,
      "metadata": {
        "id": "8CNqejviuheA"
      },
      "outputs": [],
      "source": [
        "# Import libraries we'll need\n",
        "from sentence_transformers import SentenceTransformer, util\n",
        "import os\n",
        "import csv\n",
        "import time"
      ]
    },
    {
      "cell_type": "markdown",
      "metadata": {
        "id": "krRcOErzaMin"
      },
      "source": [
        "## Load Model and Data\n",
        "\n",
        "In this example, we download a large set of questions from Quora and then find similar questions in this set.\n",
        "\n",
        "**Press the Run button below**."
      ]
    },
    {
      "cell_type": "code",
      "execution_count": null,
      "metadata": {
        "id": "n6Y34lviaHnS"
      },
      "outputs": [],
      "source": [
        "# Load the model for computing sentence embeddings. We use one trained for similar questions detection\n",
        "model = SentenceTransformer('all-MiniLM-L6-v2')\n",
        "#model = SentenceTransformer('all-mpnet-base-v2')"
      ]
    },
    {
      "cell_type": "code",
      "execution_count": null,
      "metadata": {
        "id": "_eSAnczpusFX"
      },
      "outputs": [],
      "source": [
        "# We download the Quora Duplicate Questions Dataset (https://www.quora.com/q/quoradata/First-Quora-Dataset-Release-Question-Pairs)\n",
        "# and find similar questions in it\n",
        "url = \"http://qim.fs.quoracdn.net/quora_duplicate_questions.tsv\"\n",
        "dataset_path = \"quora_duplicate_questions.tsv\"\n",
        "max_corpus_size = 5000 # We limit our corpus to only the first 5k questions\n",
        "\n",
        "\n",
        "# Check if the dataset exists. If not, download and extract\n",
        "# Download dataset if needed\n",
        "if not os.path.exists(dataset_path):\n",
        "    print(\"Download dataset\")\n",
        "    util.http_get(url, dataset_path)\n",
        "\n",
        "# Get all unique sentences from the file\n",
        "corpus_sentences = set()\n",
        "with open(dataset_path, encoding='utf8') as fIn:\n",
        "    reader = csv.DictReader(fIn, delimiter='\\t', quoting=csv.QUOTE_MINIMAL)\n",
        "    for row in reader:\n",
        "        corpus_sentences.add(row['question1'])\n",
        "        corpus_sentences.add(row['question2'])\n",
        "        if len(corpus_sentences) >= max_corpus_size:\n",
        "            break\n",
        "corpus_sentences = list(corpus_sentences)\n"
      ]
    },
    {
      "cell_type": "markdown",
      "metadata": {
        "id": "2ZAM7XCqbs4c"
      },
      "source": [
        "## Compute Sentence Vectors"
      ]
    },
    {
      "cell_type": "markdown",
      "metadata": {
        "id": "7uf2p_9icA3E"
      },
      "source": [
        "We tell the model to compute the *embeddings* for each sentence. This will take about a minute."
      ]
    },
    {
      "cell_type": "code",
      "execution_count": null,
      "metadata": {
        "id": "JUmk92XJnXQv"
      },
      "outputs": [],
      "source": [
        "corpus_sentences[:3]"
      ]
    },
    {
      "cell_type": "code",
      "execution_count": null,
      "metadata": {
        "id": "QQNRDxAQniT1"
      },
      "outputs": [],
      "source": [
        "len(corpus_sentences)"
      ]
    },
    {
      "cell_type": "code",
      "execution_count": null,
      "metadata": {
        "id": "ErP5m9F9uu2s"
      },
      "outputs": [],
      "source": [
        "corpus_embeddings = model.encode(corpus_sentences, batch_size=64, show_progress_bar=True, convert_to_tensor=True)"
      ]
    },
    {
      "cell_type": "code",
      "execution_count": null,
      "metadata": {
        "id": "OSg-PWqEnfjb"
      },
      "outputs": [],
      "source": [
        "corpus_embeddings[2].shape"
      ]
    },
    {
      "cell_type": "markdown",
      "metadata": {
        "id": "Sx7d7Q722gaS"
      },
      "source": [
        "## Visualize Sentence Vectors"
      ]
    },
    {
      "cell_type": "markdown",
      "metadata": {
        "id": "C3-AMsEyxijh"
      },
      "source": [
        "Run the two cells below to launch a viewer to show these embeddings.\n",
        "\n",
        "**Switch to UMAP mode.** (bottom left pane)\n",
        "\n",
        "Try rotating the view by dragging. Notice that some points that appeared on top of each other actually were in different places but just looked nearby because we were taking a 2D picture of a 3D space. By analogy, even the 3D space is a picture of a much higher dimensional space (384 dimensions in this case).\n",
        "\n",
        "Rotate the view around until you can clearly see a clump of points that isn't overlapped with some other points. It's easiest to see these on the outside edges of the \"ball\" of data. Mouse around that clump to see what the sentences are. **Try to identify a characteristic that those sentences have in common.** Also think about what's different among those sentences: what does the embedding projection *not* capture?\n",
        "\n",
        "Next, try clicking on an individual sentence. Look on the right pane: this is \"getting a tape measure out\" and looking at distances (or similarities) in the original space.\n"
      ]
    },
    {
      "cell_type": "code",
      "execution_count": null,
      "metadata": {
        "id": "Zir4Pdy1wX88"
      },
      "outputs": [],
      "source": [
        "# Write the embeddings to a file so that the projector can view them.\n",
        "writer = SummaryWriter()\n",
        "writer.add_embedding(corpus_embeddings, corpus_sentences)\n",
        "writer.close()"
      ]
    },
    {
      "cell_type": "code",
      "execution_count": null,
      "metadata": {
        "id": "-Qr8NWiGsQmH"
      },
      "outputs": [],
      "source": [
        "%tensorboard --logdir=runs"
      ]
    },
    {
      "cell_type": "markdown",
      "metadata": {
        "id": "7Giidd0Cbmxv"
      },
      "source": [
        "## Find Clusters\n",
        "\n",
        "The approach we'll use here looks for \"communities\" of sentences. It tries to find groups of highly-similar sentences. It doesn't try to assign *every* sentence to a community.\n",
        "\n",
        "There are two parameters that we can configure:\n",
        "\n",
        "1. How similar do sentences need to be? If a sentence isn't similar enough to a community, it won't get included.\n",
        "2. How big do communities need to be? If a community is too small, it won't get reported."
      ]
    },
    {
      "cell_type": "code",
      "execution_count": null,
      "metadata": {
        "id": "Zbi63WFcvJQD"
      },
      "outputs": [],
      "source": [
        "start_time = time.time()\n",
        "\n",
        "# Two parameters to tune:\n",
        "# min_cluster_size: Only consider cluster that have at least a certain number of sentences\n",
        "# threshold: Consider sentence pairs with a cosine-similarity larger than threshold as similar\n",
        "clusters = util.community_detection(corpus_embeddings, min_community_size=5, threshold=0.75)\n",
        "\n",
        "print(\"Clustering done after {:.2f} sec\".format(time.time() - start_time))\n",
        "\n",
        "# Print for all clusters the top 3 and bottom 3 elements\n",
        "for i, cluster in enumerate(clusters):\n",
        "    print(\"\\nCommunity {} ({} sentences)\".format(i+1, len(cluster)))\n",
        "    for sentence_id in cluster[0:3]:\n",
        "        print(\"\\t\", corpus_sentences[sentence_id])\n",
        "    print(\"\\t\", \"...\")\n",
        "    for sentence_id in cluster[-3:]:\n",
        "        print(\"\\t\", corpus_sentences[sentence_id])"
      ]
    },
    {
      "cell_type": "markdown",
      "metadata": {
        "id": "LKIQ8zO9diLV"
      },
      "source": [
        "## How does it work?\n",
        "\n",
        "Now we have a *vector* for each sentence (in this case, each question). They are stored in an object called a *tensor*. Each row of the tensor corresponds to a sentence. The elements in that row are the vector for that sentence."
      ]
    },
    {
      "cell_type": "code",
      "execution_count": null,
      "metadata": {
        "id": "z5pYfUUTvmOV"
      },
      "outputs": [],
      "source": [
        "corpus_embeddings"
      ]
    },
    {
      "cell_type": "code",
      "execution_count": null,
      "metadata": {
        "id": "3obQDYO8dvPa"
      },
      "outputs": [],
      "source": [
        "corpus_embeddings.shape"
      ]
    },
    {
      "cell_type": "markdown",
      "metadata": {
        "id": "UWaoX3jUd1aC"
      },
      "source": [
        "Here is how we can get out the vector for a sentence."
      ]
    },
    {
      "cell_type": "code",
      "execution_count": null,
      "metadata": {
        "id": "74-z-nj0vtM3"
      },
      "outputs": [],
      "source": [
        "# let's look for a few example sentences by keywords\n",
        "gmail_sents = [(i, sent) for i, sent in enumerate(corpus_sentences) if 'password' in sent and 'gmail' in sent.lower()]\n",
        "gmail_sents"
      ]
    },
    {
      "cell_type": "code",
      "execution_count": null,
      "metadata": {
        "id": "A5dUjdiZ9Vs8"
      },
      "outputs": [],
      "source": [
        "sentence_idx = gmail_sents[0][0]\n",
        "print(\"Getting the vector for sentence {}: \\\"{}\\\"\".format(sentence_idx, corpus_sentences[sentence_idx]))\n",
        "vec = corpus_embeddings[sentence_idx]\n",
        "\n",
        "print(\"The vector has\", len(vec), \"elements.\")"
      ]
    },
    {
      "cell_type": "markdown",
      "metadata": {
        "id": "EYZv7C8kegli"
      },
      "source": [
        "## Looking for Similar Vectors\n",
        "\n",
        "Let's try to compute the similarity of this vector with every other vector. We do this by multiplying corresponding elements of the two vectors and adding up the result. (This is called a *dot product*.) It turns out that we can do this with a *matrix multiplication*."
      ]
    },
    {
      "cell_type": "code",
      "execution_count": null,
      "metadata": {
        "id": "BQn3l4o2wVf0"
      },
      "outputs": [],
      "source": [
        "similarity_scores = corpus_embeddings.matmul(vec)\n",
        "similarity_scores"
      ]
    },
    {
      "cell_type": "markdown",
      "metadata": {
        "id": "W1K6A7-SfNiG"
      },
      "source": [
        "Which sentences have vectors that are *most* similar? Let's look at which sentences correspond to the top `k` most similar vectors."
      ]
    },
    {
      "cell_type": "code",
      "execution_count": null,
      "metadata": {
        "id": "GenIRe4ZfKC8"
      },
      "outputs": [],
      "source": [
        "[corpus_sentences[i] for i in similarity_scores.topk(15).indices]"
      ]
    },
    {
      "cell_type": "code",
      "execution_count": null,
      "metadata": {
        "id": "J0WsYZUHM5ow"
      },
      "outputs": [],
      "source": []
    }
  ],
  "metadata": {
    "accelerator": "GPU",
    "colab": {
      "gpuType": "T4",
      "provenance": []
    },
    "gpuClass": "standard",
    "kernelspec": {
      "display_name": "Python 3",
      "name": "python3"
    },
    "language_info": {
      "name": "python"
    }
  },
  "nbformat": 4,
  "nbformat_minor": 0
}
