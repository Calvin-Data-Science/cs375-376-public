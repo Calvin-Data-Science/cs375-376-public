{
  "cells": [
    {
      "attachments": {},
      "cell_type": "markdown",
      "metadata": {},
      "source": [
        "# Demo of Logits and Embeddings from a Language Model"
      ]
    },
    {
      "cell_type": "code",
      "execution_count": 83,
      "metadata": {
        "colab": {
          "base_uri": "https://localhost:8080/"
        },
        "id": "Fma8lEnQCwia",
        "outputId": "d6ea3fb5-56a8-4cbb-ddbc-399b5b86c67f"
      },
      "outputs": [],
      "source": [
        "# If the import fails, uncomment the following line:\n",
        "#!pip install transformers\n",
        "import torch\n",
        "from torch import tensor\n",
        "from transformers import AutoTokenizer, AutoModelForCausalLM\n",
        "import pandas as pd\n",
        "import matplotlib.pyplot as plt\n",
        "# Avoid a warning message\n",
        "import os; os.environ[\"TOKENIZERS_PARALLELISM\"] = \"false\""
      ]
    },
    {
      "cell_type": "code",
      "execution_count": 3,
      "metadata": {
        "id": "zS7NkVLSCxSU"
      },
      "outputs": [],
      "source": [
        "model_name = 'openai-community/gpt2'\n",
        "tokenizer = AutoTokenizer.from_pretrained(model_name, add_prefix_space=True)\n",
        "tokenizer.pad_token = tokenizer.eos_token\n",
        "tokenizer.padding_side = 'left'\n",
        "model = AutoModelForCausalLM.from_pretrained(model_name)"
      ]
    },
    {
      "cell_type": "code",
      "execution_count": 4,
      "metadata": {
        "colab": {
          "base_uri": "https://localhost:8080/"
        },
        "id": "RjVGKgReEcrZ",
        "outputId": "7f7e414c-7af4-4128-9115-9e762f341173"
      },
      "outputs": [
        {
          "name": "stdout",
          "output_type": "stream",
          "text": [
            "The tokenizer has 50257 strings in its vocabulary.\n",
            "The model has 124,439,808 parameters.\n"
          ]
        }
      ],
      "source": [
        "print(f\"The tokenizer has {len(tokenizer.get_vocab())} strings in its vocabulary.\")\n",
        "print(f\"The model has {model.num_parameters():,d} parameters.\")"
      ]
    },
    {
      "cell_type": "markdown",
      "metadata": {
        "id": "P3vt8iYJDfux"
      },
      "source": [
        "## Tokenization"
      ]
    },
    {
      "cell_type": "code",
      "execution_count": 5,
      "metadata": {
        "id": "vqyYB1ZOFICo"
      },
      "outputs": [],
      "source": [
        "phrase = \"Alice is my aunt, so my mother is her\""
      ]
    },
    {
      "cell_type": "code",
      "execution_count": 6,
      "metadata": {
        "colab": {
          "base_uri": "https://localhost:8080/"
        },
        "id": "cm_S3WezFauO",
        "outputId": "dcb3cfff-8522-4ef0-fd3e-7ccff13de6a5"
      },
      "outputs": [
        {
          "data": {
            "text/plain": [
              "tensor([[14862,   318,   616, 25949,    11,   523,   616,  2802,   318,   607]])"
            ]
          },
          "execution_count": 6,
          "metadata": {},
          "output_type": "execute_result"
        }
      ],
      "source": [
        "input_ids = tokenizer(phrase, return_tensors='pt')['input_ids']; input_ids"
      ]
    },
    {
      "cell_type": "markdown",
      "metadata": {
        "id": "HlS7lKlCEQE4"
      },
      "source": [
        "## Embeddings"
      ]
    },
    {
      "cell_type": "markdown",
      "metadata": {
        "id": "t-7UhZNDEVHV"
      },
      "source": [
        "The model includes two modules that are very important: one at the very beginning, one at the very end."
      ]
    },
    {
      "cell_type": "code",
      "execution_count": 7,
      "metadata": {
        "colab": {
          "base_uri": "https://localhost:8080/"
        },
        "id": "Ge_nh8t5EggA",
        "outputId": "78efbfe9-4b2e-4e29-f87e-be0b832ab722"
      },
      "outputs": [
        {
          "data": {
            "text/plain": [
              "Embedding(50257, 768)"
            ]
          },
          "execution_count": 7,
          "metadata": {},
          "output_type": "execute_result"
        }
      ],
      "source": [
        "token_embedding_module = model.transformer.wte\n",
        "token_embedding_module"
      ]
    },
    {
      "cell_type": "code",
      "execution_count": 8,
      "metadata": {
        "colab": {
          "base_uri": "https://localhost:8080/"
        },
        "id": "m5nfh8lHEjRm",
        "outputId": "8722d42a-009d-4535-d77a-be04de3dc6c2"
      },
      "outputs": [
        {
          "data": {
            "text/plain": [
              "Linear(in_features=768, out_features=50257, bias=False)"
            ]
          },
          "execution_count": 8,
          "metadata": {},
          "output_type": "execute_result"
        }
      ],
      "source": [
        "lm_head_module = model.lm_head\n",
        "lm_head_module"
      ]
    },
    {
      "cell_type": "code",
      "execution_count": 9,
      "metadata": {},
      "outputs": [
        {
          "data": {
            "text/plain": [
              "torch.Size([50257, 768])"
            ]
          },
          "execution_count": 9,
          "metadata": {},
          "output_type": "execute_result"
        }
      ],
      "source": [
        "lm_head_module.weight.shape"
      ]
    },
    {
      "cell_type": "markdown",
      "metadata": {
        "id": "IipzRn_LEorn"
      },
      "source": [
        "Notice the dimensionality is exactly symmetrical: `token_embedding` takes each token id and maps it to one of the 50k possible token embeddings (each one 768-dimensional); `lm_head` takes embeddings and maps them to logits corresponding to each of the 50k vocab entries."
      ]
    },
    {
      "cell_type": "markdown",
      "metadata": {
        "id": "OLu8QFx5GmPk"
      },
      "source": [
        "It turns out that for this model, the token embeddings are identical on the input and output. This is called \"tied weights\" and is quite common now, to save parameters. This is easy to see and implement in PyTorch because `Linear` layers store their `W` matrices transposed internally already."
      ]
    },
    {
      "cell_type": "code",
      "execution_count": 10,
      "metadata": {
        "colab": {
          "base_uri": "https://localhost:8080/"
        },
        "id": "p-maXEohGqbD",
        "outputId": "57ae4178-ebf8-442b-da31-0f6eed41ffd2"
      },
      "outputs": [
        {
          "data": {
            "text/plain": [
              "tensor(True)"
            ]
          },
          "execution_count": 10,
          "metadata": {},
          "output_type": "execute_result"
        }
      ],
      "source": [
        "(token_embedding_module.weight.data == lm_head_module.weight.data).all()"
      ]
    },
    {
      "cell_type": "code",
      "execution_count": 30,
      "metadata": {},
      "outputs": [],
      "source": [
        "token_embedding_table = token_embedding_module.weight.data"
      ]
    },
    {
      "cell_type": "markdown",
      "metadata": {
        "id": "O--n7iKNFQZt"
      },
      "source": [
        "## Example of mapping"
      ]
    },
    {
      "cell_type": "markdown",
      "metadata": {
        "id": "8vBnwBU5FSvO"
      },
      "source": [
        "The last token id is:"
      ]
    },
    {
      "cell_type": "code",
      "execution_count": 31,
      "metadata": {
        "colab": {
          "base_uri": "https://localhost:8080/"
        },
        "id": "9j4cHr8gFUdo",
        "outputId": "2adcbe60-62a3-441a-b4d4-bef0efe58683"
      },
      "outputs": [
        {
          "name": "stdout",
          "output_type": "stream",
          "text": [
            "tensor(607) which corresponds to ' her'\n"
          ]
        }
      ],
      "source": [
        "last_token_id = input_ids[0, -1]\n",
        "print(last_token_id,\n",
        "    \"which corresponds to\",\n",
        "    repr(tokenizer.decode(last_token_id)))"
      ]
    },
    {
      "cell_type": "markdown",
      "metadata": {
        "id": "PZhfvNtCFj5o"
      },
      "source": [
        "It has vector:"
      ]
    },
    {
      "cell_type": "code",
      "execution_count": 33,
      "metadata": {
        "colab": {
          "base_uri": "https://localhost:8080/"
        },
        "id": "mQ7GwOI9GOEN",
        "outputId": "579fae93-4f99-4e9f-f774-2fa40b588fb2"
      },
      "outputs": [
        {
          "data": {
            "text/plain": [
              "torch.Size([768])"
            ]
          },
          "execution_count": 33,
          "metadata": {},
          "output_type": "execute_result"
        }
      ],
      "source": [
        "with torch.no_grad():\n",
        "    last_token_embedding = token_embedding_module(last_token_id)\n",
        "last_token_embedding.shape"
      ]
    },
    {
      "cell_type": "code",
      "execution_count": 82,
      "metadata": {},
      "outputs": [
        {
          "data": {
            "image/png": "[encoded data removed]",
            "text/plain": [
              "<Figure size 1000x50 with 1 Axes>"
            ]
          },
          "metadata": {},
          "output_type": "display_data"
        }
      ],
      "source": [
        "plt.figure(figsize=(10, .5))\n",
        "plt.pcolormesh(last_token_embedding[None, :])\n",
        "plt.axis('off');"
      ]
    },
    {
      "cell_type": "markdown",
      "metadata": {
        "id": "9WDXEi6_GV6e"
      },
      "source": [
        "(The specific numbers in there are illegibile, so we hide them.)"
      ]
    },
    {
      "cell_type": "markdown",
      "metadata": {
        "id": "osay9lXBGZit"
      },
      "source": [
        "Passing a vector through a linear layer is equivalent to computing the dot product with all of its rows (since the bias terms are all set to 0), so we're going to see the dot product of `vec` with all of the token embeddings."
      ]
    },
    {
      "cell_type": "code",
      "execution_count": 35,
      "metadata": {
        "colab": {
          "base_uri": "https://localhost:8080/"
        },
        "id": "16IE274rGlFj",
        "outputId": "02557fed-092d-4bde-d583-38cb5608987f"
      },
      "outputs": [
        {
          "data": {
            "text/plain": [
              "torch.Size([50257])"
            ]
          },
          "execution_count": 35,
          "metadata": {},
          "output_type": "execute_result"
        }
      ],
      "source": [
        "with torch.no_grad():\n",
        "    last_token_dot_products = lm_head_module(last_token_embedding)\n",
        "last_token_dot_products.shape"
      ]
    },
    {
      "cell_type": "code",
      "execution_count": 84,
      "metadata": {
        "colab": {
          "base_uri": "https://localhost:8080/"
        },
        "id": "T_QmCn68HMKS",
        "outputId": "89ad15cc-d164-4609-840b-936cd93ffc75"
      },
      "outputs": [
        {
          "name": "stdout",
          "output_type": "stream",
          "text": [
            "[' her', ' hers', ' herself', 'Her', ' she', 'She', 'she', ' HER', ' Her', ' She']\n"
          ]
        }
      ],
      "source": [
        "print([tokenizer.decode(x) for x in last_token_dot_products.topk(k=10).indices])"
      ]
    },
    {
      "cell_type": "markdown",
      "metadata": {
        "id": "cVpOMih4HVro"
      },
      "source": [
        "> Astute observers will notice that the token space is wasted by some minor variants of the same token. Current research has improved on this slightly by allowing these related tokens to share information, but it doesn't make a big difference.\n"
      ]
    },
    {
      "cell_type": "markdown",
      "metadata": {
        "id": "IYSNXSOzHfqa"
      },
      "source": [
        "If we do this for all the input tokens at the same time, we get the most similar tokens for each input token. That will almost always be the token itself, but note that the token embeddings are not explicitly normalized so the dot product with a different token's embedding may turn out to be the largest one just because it's a different magnitude."
      ]
    },
    {
      "cell_type": "code",
      "execution_count": 19,
      "metadata": {
        "colab": {
          "base_uri": "https://localhost:8080/",
          "height": 206
        },
        "id": "98F0s5BjHm6R",
        "outputId": "03b2dd36-9f31-4591-93c3-340efb604fcb"
      },
      "outputs": [
        {
          "name": "stdout",
          "output_type": "stream",
          "text": [
            "['_Alice', 'Alice', '_Wonderland', '_Ellen', '田', '_Eleanor', '_Sakuya', '_Louise', '_Ellie', '_Alic']\n",
            "['_is', '_has', '_was', '_does', '_are', '_will', \"'s\", '_isn', '_can', '_may']\n",
            "['_my', 'My', '_myself', 'my', '_MY', '_My', '_me', '_our', '_mine', '_I']\n",
            "['_aunt', '_Aunt', '_niece', '_grandmother', '_uncle', '_grandma', 'uncle', '_granddaughter', '_nephew', '_grandparents']\n",
            "[',', '.', '-', \"'s\", ':', '/', ';', ')', '\"', '?']\n",
            "['_so', 'so', '_So', 'So', '_SO', '_thus', '_mathemat', '_such', '_too', '_rul']\n",
            "['_my', 'My', '_myself', 'my', '_MY', '_My', '_me', '_our', '_mine', '_I']\n",
            "['_mother', 'Mother', 'mother', '_mothers', '_mom', '_father', '_grandmother', '_moms', '_Mother', '_maternal']\n",
            "['_is', '_has', '_was', '_does', '_are', '_will', \"'s\", '_isn', '_can', '_may']\n",
            "['_her', '_hers', '_herself', 'Her', '_she', 'She', 'she', '_HER', '_Her', '_She']\n"
          ]
        }
      ],
      "source": [
        "import pandas as pd\n",
        "logits = lm_head_module(token_embedding_module(input_ids))\n",
        "for y in logits.topk(k=10, axis=2).indices[0]:\n",
        "    print([tokenizer.decode(x).replace(' ', '_') for x in y])"
      ]
    },
    {
      "cell_type": "markdown",
      "metadata": {},
      "source": [
        "## Vector Analogies"
      ]
    },
    {
      "cell_type": "code",
      "execution_count": 41,
      "metadata": {},
      "outputs": [
        {
          "data": {
            "text/plain": [
              "(torch.Size([768]), torch.Size([768]), torch.Size([768]))"
            ]
          },
          "execution_count": 41,
          "metadata": {},
          "output_type": "execute_result"
        }
      ],
      "source": [
        "# get the vectors for the tokens \"he\", \"she\", and \"his\"\n",
        "@torch.no_grad()\n",
        "def get_vector(token):\n",
        "    token_id = tokenizer.encode(token)\n",
        "    return token_embedding_table[token_id[0]]\n",
        "    \n",
        "he = get_vector(\"he\")\n",
        "she = get_vector(\"she\")\n",
        "his = get_vector(\"his\")\n",
        "\n",
        "he.shape, she.shape, his.shape"
      ]
    },
    {
      "cell_type": "code",
      "execution_count": 40,
      "metadata": {},
      "outputs": [
        {
          "data": {
            "text/plain": [
              "torch.Size([768])"
            ]
          },
          "execution_count": 40,
          "metadata": {},
          "output_type": "execute_result"
        }
      ],
      "source": [
        "direction = she - he\n",
        "query_vector = his + direction\n",
        "query_vector.shape"
      ]
    },
    {
      "cell_type": "code",
      "execution_count": 43,
      "metadata": {},
      "outputs": [
        {
          "data": {
            "text/plain": [
              "' her'"
            ]
          },
          "execution_count": 43,
          "metadata": {},
          "output_type": "execute_result"
        }
      ],
      "source": [
        "# find the token with the highest dot product with the query vector\n",
        "dot_products = token_embedding_table @ query_vector\n",
        "closest_token = dot_products.argmax()\n",
        "tokenizer.decode([closest_token])"
      ]
    },
    {
      "cell_type": "code",
      "execution_count": 44,
      "metadata": {},
      "outputs": [
        {
          "data": {
            "text/plain": [
              "' smallest'"
            ]
          },
          "execution_count": 44,
          "metadata": {},
          "output_type": "execute_result"
        }
      ],
      "source": [
        "small = get_vector(\"small\")\n",
        "big = get_vector(\"big\")\n",
        "biggest = get_vector(\"biggest\")\n",
        "\n",
        "tokenizer.decode([\n",
        "    (token_embedding_module.weight.data @ (small + (biggest - big))).argmax(),\n",
        "])"
      ]
    },
    {
      "cell_type": "markdown",
      "metadata": {
        "id": "jt1d8gr3Id4Y"
      },
      "source": [
        "# What the model does\n",
        "(The \"[Logit Lens](https://www.lesswrong.com/posts/AcKRB8wDpdaN6v6ru/interpreting-gpt-the-logit-lens)\")"
      ]
    },
    {
      "cell_type": "markdown",
      "metadata": {
        "id": "a_Kk7xInIg7Q"
      },
      "source": [
        "When the model processes its input, it first looks up the embedding for each input token to produce its first \"hidden states\". Then it incrementally applies each layer of the model (consisting, in this case, of a self-attention \"mixing\" layer followed by a (one-token-at-a-time) feed-forward \"mapping\" layer), obtaining incrementally more refined hidden states that approach the context vector for the next token."
      ]
    },
    {
      "cell_type": "code",
      "execution_count": 85,
      "metadata": {
        "id": "2O6A4AEdIiT_"
      },
      "outputs": [],
      "source": [
        "with torch.no_grad():\n",
        "    model_output = model(input_ids, output_hidden_states=True, output_attentions=True)\n",
        "hidden_states = model_output.hidden_states"
      ]
    },
    {
      "cell_type": "code",
      "execution_count": 86,
      "metadata": {
        "colab": {
          "base_uri": "https://localhost:8080/"
        },
        "id": "iCK1A85xIoJf",
        "outputId": "8059b757-758d-4ead-e2cf-e8adf3ab9370"
      },
      "outputs": [
        {
          "data": {
            "text/plain": [
              "13"
            ]
          },
          "execution_count": 86,
          "metadata": {},
          "output_type": "execute_result"
        }
      ],
      "source": [
        "len(hidden_states) # this is model.config.n_layer + 1, to include the input embeddings."
      ]
    },
    {
      "cell_type": "code",
      "execution_count": 103,
      "metadata": {
        "colab": {
          "base_uri": "https://localhost:8080/",
          "height": 363
        },
        "id": "HRVNcX7qJKe1",
        "outputId": "eb9037e4-4978-4700-d02d-2c5006615b56"
      },
      "outputs": [
        {
          "name": "stdout",
          "output_type": "stream",
          "text": [
            "Most similar to hidden state before layer 0 at token 0 ( Alice):\n",
            "[' Alice', 'Alice', '���', 'ּ', 'ignty', 'wcsstore', '▬', '��', '田', 'bil']\n",
            "\n",
            "Most similar to hidden state before layer 0 at token 1 ( is):\n",
            "[' is', ' has', ' was', ' will', \"'s\", ' can', ' does', ' isn', ' may', ' are']\n",
            "\n",
            "Most similar to hidden state before layer 0 at token 2 ( my):\n",
            "[' my', 'my', ' myself', 'My', ' My', ' MY', ' me', ' our', ' mine', ' mathemat']\n",
            "\n",
            "Most similar to hidden state before layer 0 at token 3 ( aunt):\n",
            "[' aunt', ' niece', ' Aunt', ' grandmother', ' uncle', 'uncle', ' cousin', ' grandma', 'unts', ' grandparents']\n",
            "\n",
            "Most similar to hidden state before layer 0 at token 4 (,):\n",
            "[',', '.', '-', ':', \"'s\", '/', ';', '\"', ')', ' and']\n",
            "\n",
            "Most similar to hidden state before layer 0 at token 5 ( so):\n",
            "[' so', 'so', 'So', ' So', ' mathemat', ' thus', 'theless', ' arrang', ' destro', ' SO']\n",
            "\n",
            "Most similar to hidden state before layer 0 at token 6 ( my):\n",
            "[' my', 'my', ' myself', 'My', ' MY', ' My', ' me', ' mathemat', ' our', ' mine']\n",
            "\n",
            "Most similar to hidden state before layer 0 at token 7 ( mother):\n",
            "[' mother', 'mother', 'Mother', ' mothers', ' mom', ' father', ' grandmother', ' moms', ' maternal', ' Mothers']\n",
            "\n",
            "Most similar to hidden state before layer 0 at token 8 ( is):\n",
            "[' is', ' has', ' was', ' does', ' will', ' can', ' are', ' isn', \"'s\", ' may']\n",
            "\n",
            "Most similar to hidden state before layer 0 at token 9 ( her):\n",
            "[' her', ' herself', ' hers', 'Her', ' she', 'She', ' Her', ' She', ' HER', 'she']\n",
            "\n"
          ]
        }
      ],
      "source": [
        "layer = 0\n",
        "\n",
        "if layer < 0: layer += len(hidden_states)\n",
        "logits = lm_head_module(hidden_states[layer])\n",
        "for seq_idx, y in enumerate(logits.topk(k=10).indices[0]):\n",
        "    token_in_input = tokenizer.decode(input_ids[0, seq_idx])\n",
        "    print(f\"Most similar to hidden state before layer {layer} at token {seq_idx} ({token_in_input}):\")\n",
        "    print([tokenizer.decode(x) for x in y])\n",
        "    print()"
      ]
    },
    {
      "cell_type": "markdown",
      "metadata": {},
      "source": [
        "> Astute readers will notice that the most similar tokens to the *input* embeddings (the first hidden state) aren't exactly the same as the most similar tokens to the *token* embeddings. That's because the Transformer model constructs its input embeddings by adding the *token* embeddings and *position* embeddings. The position embeddings enable the model to distinguish between different positions in the input sequence."
      ]
    },
    {
      "cell_type": "markdown",
      "metadata": {
        "id": "1umj-doBJ-FV"
      },
      "source": [
        "Note: the predictions after the first token aren't great because the LM has very little context to work with. As it gets more context, the predictions get better."
      ]
    },
    {
      "cell_type": "code",
      "execution_count": 49,
      "metadata": {},
      "outputs": [],
      "source": []
    },
    {
      "cell_type": "code",
      "execution_count": 67,
      "metadata": {},
      "outputs": [
        {
          "data": {
            "image/png": "[encoded data removed]",
            "text/plain": [
              "<Figure size 640x480 with 2 Axes>"
            ]
          },
          "metadata": {},
          "output_type": "display_data"
        }
      ],
      "source": [
        "layer = 1\n",
        "plt.pcolormesh(model_output.attentions[layer][0].mean(dim=0).cpu().numpy())\n",
        "plt.title(f\"Decoder Self-Attention Weights for layer {layer} (avg over all {model.config.num_attention_heads} heads)\")\n",
        "plt.xticks(torch.arange(len(input_ids[0]))+.5, tokenizer.convert_ids_to_tokens(input_ids[0]))\n",
        "plt.yticks(torch.arange(len(input_ids[0]))+.5, tokenizer.convert_ids_to_tokens(input_ids[0]))\n",
        "plt.colorbar();"
      ]
    },
    {
      "cell_type": "markdown",
      "metadata": {},
      "source": []
    }
  ],
  "metadata": {
    "colab": {
      "provenance": []
    },
    "kernelspec": {
      "display_name": "Python 3",
      "name": "python3"
    },
    "language_info": {
      "codemirror_mode": {
        "name": "ipython",
        "version": 3
      },
      "file_extension": ".py",
      "mimetype": "text/x-python",
      "name": "python",
      "nbconvert_exporter": "python",
      "pygments_lexer": "ipython3",
      "version": "3.11.8"
    }
  },
  "nbformat": 4,
  "nbformat_minor": 0
}
