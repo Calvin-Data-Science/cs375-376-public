{
 "cells": [
  {
   "cell_type": "markdown",
   "metadata": {
    "id": "3jc8Qlh1TEgC"
   },
   "source": [
    "# Tokenization\n",
    "\n",
    "Task: Convert text to numbers; interpret subword tokenization.\n",
    "\n",
    "There are various different ways of converting text to numbers. This assignment works with one popular approach: assign numbers to parts of words."
   ]
  },
  {
   "cell_type": "markdown",
   "metadata": {
    "id": "f8_8RWp3TX-8"
   },
   "source": [
    "## Setup"
   ]
  },
  {
   "cell_type": "markdown",
   "metadata": {
    "id": "aUvTIxyWTdBF"
   },
   "source": [
    "We'll be using the HuggingFace Transformers library, which provides a (mostly) consistent interface to many different language models. We'll focus on the OpenAI GPT-2 model, famous for OpenAI's assertion that it was \"too dangerous\" to release in full.\n",
    "\n",
    "- [Documentation](https://huggingface.co/transformers/model_doc/gpt2.html) for the model and tokenizer.\n",
    "- [Model Card](https://github.com/openai/gpt-2/blob/master/model_card.md) for GPT-2."
   ]
  },
  {
   "attachments": {},
   "cell_type": "markdown",
   "metadata": {},
   "source": [
    "The `transformers` library is pre-installed on many systems, but in case you need to install it, you can run the following cell."
   ]
  },
  {
   "cell_type": "code",
   "execution_count": 1,
   "metadata": {
    "colab": {
     "base_uri": "https://localhost:8080/"
    },
    "id": "vWy--2nwhWPy",
    "outputId": "44b8e674-7e8b-4cf6-a1e9-1f8d62740382"
   },
   "outputs": [],
   "source": [
    "# Uncomment the following line to install the transformers library\n",
    "#!pip install -q transformers"
   ]
  },
  {
   "cell_type": "code",
   "execution_count": 2,
   "metadata": {
    "id": "osKgPaDwhaN4"
   },
   "outputs": [],
   "source": [
    "import torch\n",
    "from torch import tensor"
   ]
  },
  {
   "attachments": {},
   "cell_type": "markdown",
   "metadata": {
    "id": "UiNKbIh8hyDg"
   },
   "source": [
    "### Download and load the model\n",
    "\n",
    "This cell downloads the model and tokenizer, and loads them into memory."
   ]
  },
  {
   "cell_type": "code",
   "execution_count": 3,
   "metadata": {
    "id": "IM5o_4w1hfyV"
   },
   "outputs": [
    {
     "name": "stderr",
     "output_type": "stream",
     "text": [
      "2024-03-14 15:44:04.851806: I tensorflow/core/platform/cpu_feature_guard.cc:210] This TensorFlow binary is optimized to use available CPU instructions in performance-critical operations.\n",
      "To enable the following instructions: AVX2 FMA, in other operations, rebuild TensorFlow with the appropriate compiler flags.\n"
     ]
    }
   ],
   "source": [
    "# https://huggingface.co/docs/transformers/en/generation_strategies\n",
    "from transformers import AutoTokenizer, AutoModelForCausalLM, TextStreamer, set_seed\n",
    "model_name = \"openai-community/gpt2\"\n",
    "# Here's a few larger models you could try:\n",
    "# model_name = \"EleutherAI/pythia-1.4b-deduped\"\n",
    "# model_name = \"google/gemma-2b\"\n",
    "# model_name = \"google/gemma-2b-it\"\n",
    "# Note: you'll need to accept the license agreement on https://huggingface.co/google/gemma-7b to use Gemma models\n",
    "tokenizer = AutoTokenizer.from_pretrained(model_name, add_prefix_space=True)\n",
    "\n",
    "# add the EOS token as PAD token to avoid warnings\n",
    "model = AutoModelForCausalLM.from_pretrained(model_name)\n",
    "if model.generation_config.pad_token_id is None:\n",
    "    model.generation_config.pad_token_id = model.generation_config.eos_token_id\n",
    "streamer = TextStreamer(tokenizer)\n",
    "# Silence a warning.\n",
    "tokenizer.decode([tokenizer.eos_token_id]);"
   ]
  },
  {
   "cell_type": "code",
   "execution_count": 5,
   "metadata": {
    "colab": {
     "base_uri": "https://localhost:8080/"
    },
    "id": "m-Z9_U0LUEVQ",
    "outputId": "1d639faf-5b56-4bb2-81e5-054ee086ef0a"
   },
   "outputs": [
    {
     "name": "stdout",
     "output_type": "stream",
     "text": [
      "The tokenizer has 50257 strings in its vocabulary.\n",
      "The model has 124,439,808 parameters.\n"
     ]
    }
   ],
   "source": [
    "token_to_id_dict = tokenizer.get_vocab()\n",
    "print(f\"The tokenizer has {len(token_to_id_dict)} strings in its vocabulary.\")\n",
    "print(f\"The model has {model.num_parameters():,d} parameters.\")"
   ]
  },
  {
   "cell_type": "code",
   "execution_count": 6,
   "metadata": {},
   "outputs": [
    {
     "name": "stdout",
     "output_type": "stream",
     "text": [
      "The first 10 tokens are: ['!', '\"', '#', '$', '%', '&', \"'\", '(', ')', '*']\n",
      "The last 10 tokens are: ['Ġ(/', 'âĢ¦.\"', 'Compar', 'Ġamplification', 'ominated', 'Ġregress', 'ĠCollider', 'Ġinformants', 'Ġgazed', '<|endoftext|>']\n"
     ]
    }
   ],
   "source": [
    "# warning: this assumes that there are no gaps in the token ids, which happens to be true for this tokenizer.\n",
    "id_to_token = [token for token, id in sorted(token_to_id_dict.items(), key=lambda x: x[1])]\n",
    "print(f\"The first 10 tokens are: {id_to_token[:10]}\")\n",
    "print(f\"The last 10 tokens are: {id_to_token[-10:]}\")"
   ]
  },
  {
   "cell_type": "markdown",
   "metadata": {},
   "source": [
    "## Demo"
   ]
  },
  {
   "cell_type": "code",
   "execution_count": 7,
   "metadata": {},
   "outputs": [
    {
     "name": "stdout",
     "output_type": "stream",
     "text": [
      " A list of colors: red, blue, green, yellow, orange, yellow, orange,\n"
     ]
    }
   ],
   "source": [
    "set_seed(0)\n",
    "model.generate(\n",
    "    **tokenizer(\"A list of colors: red, blue,\", return_tensors=\"pt\"),\n",
    "    max_new_tokens=10, do_sample=True, temperature=0.3, penalty_alpha=.5, top_k=5, streamer=streamer);"
   ]
  },
  {
   "cell_type": "markdown",
   "metadata": {
    "id": "OOUiz_PsUZgS"
   },
   "source": [
    "## Task\n",
    "\n",
    "Consider the following phrase:"
   ]
  },
  {
   "cell_type": "code",
   "execution_count": 8,
   "metadata": {
    "id": "JS7Z-DjoUiLK"
   },
   "outputs": [],
   "source": [
    "phrase = \"I visited Muskegon\"\n",
    "# Another one to try later. This was a famous early example of the GPT-2 model:\n",
    "# phrase = \"In a shocking finding, scientists discovered a herd of unicorns living in\""
   ]
  },
  {
   "cell_type": "markdown",
   "metadata": {},
   "source": [
    "### Getting familiar with tokens\n",
    "\n",
    "1: Use `tokenizer.tokenize` to convert the phrase into a list of tokens. (What do you think the `Ġ` means?)"
   ]
  },
  {
   "cell_type": "code",
   "execution_count": 9,
   "metadata": {
    "colab": {
     "base_uri": "https://localhost:8080/"
    },
    "id": "hyq-5XWSUx_8",
    "outputId": "22efb7a8-37c5-46f0-e230-c3b8e5ad6bdc"
   },
   "outputs": [
    {
     "data": {
      "text/plain": [
       "['ĠI', 'Ġvisited', 'ĠMus', 'ke', 'gon']"
      ]
     },
     "execution_count": 9,
     "metadata": {},
     "output_type": "execute_result"
    }
   ],
   "source": [
    "tokens = tokenizer.tokenize(phrase)\n",
    "tokens"
   ]
  },
  {
   "cell_type": "markdown",
   "metadata": {},
   "source": [
    "2: Use `tokenizer.convert_tokens_to_string` to convert the tokens back into a string.\n"
   ]
  },
  {
   "cell_type": "code",
   "execution_count": 10,
   "metadata": {},
   "outputs": [
    {
     "data": {
      "text/plain": [
       "' I visited Muskegon'"
      ]
     },
     "execution_count": 10,
     "metadata": {},
     "output_type": "execute_result"
    }
   ],
   "source": [
    "# your code here"
   ]
  },
  {
   "cell_type": "code",
   "execution_count": 11,
   "metadata": {},
   "outputs": [
    {
     "data": {
      "text/plain": [
       "'ĠIĠvisitedĠMuskegon'"
      ]
     },
     "execution_count": 11,
     "metadata": {},
     "output_type": "execute_result"
    }
   ],
   "source": [
    "# for comparison:\n",
    "''.join(tokens)"
   ]
  },
  {
   "cell_type": "markdown",
   "metadata": {},
   "source": [
    "What is the difference between the output from `convert_tokens_to_string` and the result of ''.join(tokens)?\n",
    "\n",
    "*your answer here*"
   ]
  },
  {
   "cell_type": "markdown",
   "metadata": {},
   "source": [
    "3: Use `tokenizer.encode` to convert the original phrase into token ids. (*Note: this is equivalent to `tokenize` followed by `convert_tokens_to_ids`*.) Call the result `input_ids`.\n"
   ]
  },
  {
   "cell_type": "code",
   "execution_count": 12,
   "metadata": {
    "colab": {
     "base_uri": "https://localhost:8080/"
    },
    "id": "GkaoLSFMiHzb",
    "outputId": "18c6391e-a9aa-4d4c-dace-d49f8bbcba7a"
   },
   "outputs": [
    {
     "data": {
      "text/plain": [
       "[314, 8672, 2629, 365, 14520]"
      ]
     },
     "execution_count": 12,
     "metadata": {},
     "output_type": "execute_result"
    }
   ],
   "source": [
    "input_ids = ...\n",
    "input_ids"
   ]
  },
  {
   "cell_type": "markdown",
   "metadata": {},
   "source": [
    "4: Turn `input_ids` back into a readable string. Try this two ways: (1) using `tokenizer.decode` and (2) using `convert_ids_to_tokens`. **The result of (1) should be the same as the result of (2).**"
   ]
  },
  {
   "cell_type": "code",
   "execution_count": 13,
   "metadata": {},
   "outputs": [
    {
     "data": {
      "text/plain": [
       "' I visited Muskegon'"
      ]
     },
     "execution_count": 13,
     "metadata": {},
     "output_type": "execute_result"
    }
   ],
   "source": [
    "# using convert_ids_to_tokens\n",
    "# your code here"
   ]
  },
  {
   "cell_type": "code",
   "execution_count": 14,
   "metadata": {
    "colab": {
     "base_uri": "https://localhost:8080/",
     "height": 36
    },
    "id": "ncSRaBaZix8R",
    "outputId": "204670f9-d7c4-4856-c804-a038b77ccd1c"
   },
   "outputs": [
    {
     "data": {
      "text/plain": [
       "' I visited Muskegon'"
      ]
     },
     "execution_count": 14,
     "metadata": {},
     "output_type": "execute_result"
    }
   ],
   "source": [
    "# using tokenizer.decode\n",
    "# your code here"
   ]
  },
  {
   "cell_type": "markdown",
   "metadata": {},
   "source": [
    "### Applying what you learned\n",
    "\n",
    "5: Use `model.generate(input_ids_batch)` to generate a completion of this phrase. (Note that we needed to add `[]`s to give a \"batch\" dimension to the input, and convert the result to a PyTorch `tensor` for the model code to use it.) Call the result `output_ids`. This one is done for you.\n"
   ]
  },
  {
   "cell_type": "code",
   "execution_count": 15,
   "metadata": {
    "colab": {
     "base_uri": "https://localhost:8080/"
    },
    "id": "5PZm3eIjjKCJ",
    "outputId": "1c4b1a63-de00-44f9-eee7-85714012dbc6"
   },
   "outputs": [
    {
     "data": {
      "text/plain": [
       "tensor([[  314,  8672,  2629,   365, 14520,    11,   290,   314,   373,  1297,\n",
       "           326,   262,  1748,   373,   287,   262,  1429,   286,   852,  3170,\n",
       "            13,   314,   373,  1297,   326]])"
      ]
     },
     "execution_count": 15,
     "metadata": {},
     "output_type": "execute_result"
    }
   ],
   "source": [
    "input_ids_batch = tensor([input_ids])\n",
    "output_ids = model.generate(input_ids_batch, max_new_tokens=20)\n",
    "output_ids"
   ]
  },
  {
   "cell_type": "markdown",
   "metadata": {},
   "source": [
    "6: Convert your `output_ids` into a readable form. (Note: it has an extra \"batch\" dimension, so you'll need to use `output_ids[0]`.)"
   ]
  },
  {
   "cell_type": "code",
   "execution_count": 16,
   "metadata": {
    "colab": {
     "base_uri": "https://localhost:8080/",
     "height": 36
    },
    "id": "2kKJ8rvijVez",
    "outputId": "386df167-0e88-45f1-b1a0-01beab1f0bc8"
   },
   "outputs": [
    {
     "data": {
      "text/plain": [
       "' I visited Muskegon, and I was told that the city was in the process of being built. I was told that'"
      ]
     },
     "execution_count": 16,
     "metadata": {},
     "output_type": "execute_result"
    }
   ],
   "source": [
    "# your code here"
   ]
  },
  {
   "cell_type": "markdown",
   "metadata": {},
   "source": [
    "Note: `generate` uses a greedy decoding by default, but it's highly customizable. We'll play more with it in later exercises. For now, if you want more interesting results, try:\n",
    "\n",
    "- Turn on `do_sample=True`. Run it a few times to see what it gives.\n",
    "- Set `top_k=5`. Or 50."
   ]
  },
  {
   "attachments": {},
   "cell_type": "markdown",
   "metadata": {},
   "source": [
    "7. What is the largest possible token id for this tokenizer? What token does it correspond to?"
   ]
  },
  {
   "cell_type": "code",
   "execution_count": 17,
   "metadata": {},
   "outputs": [],
   "source": [
    "# your code here"
   ]
  },
  {
   "cell_type": "markdown",
   "metadata": {},
   "source": [
    "## Analysis"
   ]
  },
  {
   "cell_type": "markdown",
   "metadata": {},
   "source": [
    "Q1: **Write a brief explanation of what a tokenizer does.** Note that we worked with two parts of a tokenizer in this exercise (one that deals only with strings, and another that deals with numbers); make sure your explanation addresses both parts."
   ]
  },
  {
   "cell_type": "markdown",
   "metadata": {},
   "source": [
    "*your response here*"
   ]
  },
  {
   "attachments": {},
   "cell_type": "markdown",
   "metadata": {},
   "source": [
    "Q2: What single well-known character does the `Ġ` represent in the GPT-2 tokenizer?"
   ]
  },
  {
   "attachments": {},
   "cell_type": "markdown",
   "metadata": {},
   "source": [
    "*your response here*"
   ]
  },
  {
   "attachments": {},
   "cell_type": "markdown",
   "metadata": {},
   "source": [
    "Q3: Suppose you made a typo in your input. Explain what the tokenizer we used in this notebook will do with the new input. (Go back and try an input with a typo to see what happens.)"
   ]
  },
  {
   "attachments": {},
   "cell_type": "markdown",
   "metadata": {},
   "source": [
    "*your response here*"
   ]
  }
 ],
 "metadata": {
  "colab": {
   "authorship_tag": "ABX9TyNS7mRS03a7VSFcbdUnYf/k",
   "collapsed_sections": [],
   "include_colab_link": true,
   "name": "012-tokenization.ipynb",
   "provenance": []
  },
  "kernelspec": {
   "display_name": "Python 3",
   "language": "python",
   "name": "python3"
  },
  "language_info": {
   "codemirror_mode": {
    "name": "ipython",
    "version": 3
   },
   "file_extension": ".py",
   "mimetype": "text/x-python",
   "name": "python",
   "nbconvert_exporter": "python",
   "pygments_lexer": "ipython3",
   "version": "3.11.8"
  }
 },
 "nbformat": 4,
 "nbformat_minor": 0
}
